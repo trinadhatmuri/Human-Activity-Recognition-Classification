{
 "cells": [
  {
   "cell_type": "markdown",
   "id": "4a214e31",
   "metadata": {},
   "source": [
    "<center><h1>Hyper Parameter Tuning</h1></center>"
   ]
  },
  {
   "cell_type": "markdown",
   "id": "b62d382b",
   "metadata": {},
   "source": [
    "<h2>Importing Libraries</h2>"
   ]
  },
  {
   "cell_type": "code",
   "execution_count": 105,
   "id": "d83240f4",
   "metadata": {},
   "outputs": [],
   "source": [
    "import pandas as pd\n",
    "import numpy as np\n",
    "import time\n",
    "from scipy.stats import randint, uniform\n",
    "from sklearn.model_selection import RandomizedSearchCV, GridSearchCV\n",
    "from xgboost import XGBClassifier\n",
    "from sklearn.metrics import accuracy_score, f1_score, confusion_matrix\n",
    "import matplotlib.pyplot as plt\n",
    "import seaborn as sns"
   ]
  },
  {
   "cell_type": "markdown",
   "id": "7f1cbff9",
   "metadata": {},
   "source": [
    "<h2>Importing Feature Sets</h2>"
   ]
  },
  {
   "cell_type": "code",
   "execution_count": 90,
   "id": "3a23fe95",
   "metadata": {},
   "outputs": [],
   "source": [
    "X_train = pd.read_csv(\"../Final Feature Sets/X_train.csv\")\n",
    "X_test = pd.read_csv(\"../Final Feature Sets/X_test.csv\")\n",
    "y_train = pd.read_csv(\"../Final Feature Sets/y_train.csv\")['activity_code'] - 1\n",
    "y_test = pd.read_csv(\"../Final Feature Sets/y_test.csv\")['activity_code'] - 1\n",
    "research_X_train = pd.read_csv(\"../Final Feature Sets/feature_reduced_X_train.csv\")\n",
    "research_X_test = pd.read_csv(\"../Final Feature Sets/feature_reduced_X_test.csv\")\n",
    "rf_efficent_X_train = pd.read_csv(\"../Final Feature Sets/rf_most_efficent_train.csv\")\n",
    "rf_efficent_X_test = pd.read_csv(\"../Final Feature Sets/rf_most_efficent_test.csv\")\n",
    "xgb_accurate_X_train = pd.read_csv(\"../Final Feature Sets/xgb_most_accurate_train.csv\")\n",
    "xgb_accurate_X_test = pd.read_csv(\"../Final Feature Sets/xgb_most_accurate_test.csv\")"
   ]
  },
  {
   "cell_type": "markdown",
   "id": "2d331594",
   "metadata": {},
   "source": [
    "Making all the feature sets available in a single dictionary, so that we can find the feature sets at one place for hyper paramter tuning."
   ]
  },
  {
   "cell_type": "code",
   "execution_count": 52,
   "id": "497dd0a9",
   "metadata": {},
   "outputs": [],
   "source": [
    "feature_sets = {\n",
    "    \"All Features\" : (X_train, y_train),\n",
    "    \"Research Features\" : (research_X_train, y_train),\n",
    "    \"RF Efficent\" : (rf_efficent_X_train, y_train),\n",
    "    \"XGB Accurate\" : (xgb_accurate_X_train, y_train)\n",
    "}"
   ]
  },
  {
   "cell_type": "markdown",
   "id": "e5f5ab8f",
   "metadata": {},
   "source": [
    "<h3>BaseLine Re-Establishment</h3>"
   ]
  },
  {
   "cell_type": "markdown",
   "id": "05235054",
   "metadata": {},
   "source": [
    "The main reason we are doing this is because we are going to use only 3-fold cv, since 5-fold is going to be too much and also the evaluation metric will be based on just f1_macro, instead of both accuracy and f1_macro."
   ]
  },
  {
   "cell_type": "code",
   "execution_count": 56,
   "id": "7f8f16d7",
   "metadata": {},
   "outputs": [],
   "source": [
    "def baseline_evaluation_3fold(feature_sets):\n",
    "    \n",
    "    \"\"\"\n",
    "   Evaluates baseline XGBoost performance across multiple feature sets using 3-fold cross-validation.\n",
    "   \n",
    "   Args:\n",
    "       feature_sets: Dictionary of feature sets in format {name: (X_data, y_data)}\n",
    "       \n",
    "   Returns:\n",
    "       dict: Baseline performance metrics (F1-macro mean and standard deviation) for each feature set\n",
    "   \"\"\"\n",
    "    \n",
    "    baseline_results = {}\n",
    "    \n",
    "    for fs_name, (X_data, y_data) in feature_sets.items():\n",
    "        print(f\"Baseline evaluation for {fs_name} ({X_data.shape[1]} features)\")\n",
    "        \n",
    "        xgb_baseline = XGBClassifier(\n",
    "            n_estimators=100, \n",
    "            random_state=42, \n",
    "            n_jobs=-1, \n",
    "            eval_metric='mlogloss'\n",
    "        )\n",
    "        \n",
    "        cv_scores = cross_validate(\n",
    "            xgb_baseline,\n",
    "            X_data,\n",
    "            y_data,\n",
    "            cv=3,\n",
    "            scoring='f1_macro',\n",
    "            return_train_score=False\n",
    "        )\n",
    "        \n",
    "        baseline_f1 = cv_scores['test_score'].mean()\n",
    "        baseline_std = cv_scores['test_score'].std()\n",
    "        \n",
    "        baseline_results[fs_name] = {\n",
    "            'baseline_f1': baseline_f1,\n",
    "            'baseline_std': baseline_std\n",
    "        }\n",
    "        \n",
    "        print(f\"Baseline F1 (3-fold): {baseline_f1:.4f} ± {baseline_std:.4f}\")\n",
    "        print()\n",
    "        \n",
    "    return baseline_results"
   ]
  },
  {
   "cell_type": "code",
   "execution_count": 57,
   "id": "f3973120",
   "metadata": {},
   "outputs": [
    {
     "name": "stdout",
     "output_type": "stream",
     "text": [
      "Baseline evaluation for All Features (561 features)\n",
      "Baseline F1 (3-fold): 0.9069 ± 0.0285\n",
      "\n",
      "Baseline evaluation for Research Features (66 features)\n",
      "Baseline F1 (3-fold): 0.8925 ± 0.0354\n",
      "\n",
      "Baseline evaluation for RF Efficent (26 features)\n",
      "Baseline F1 (3-fold): 0.8861 ± 0.0216\n",
      "\n",
      "Baseline evaluation for XGB Accurate (54 features)\n",
      "Baseline F1 (3-fold): 0.8954 ± 0.0283\n",
      "\n"
     ]
    }
   ],
   "source": [
    "baseline_3fold_results = baseline_evaluation_3fold(feature_sets)"
   ]
  },
  {
   "cell_type": "markdown",
   "id": "84f4ed4f",
   "metadata": {},
   "source": [
    "<h3>We are going to be using a 2-stage approach by using RandomizedSearch and GridSearch</h3> "
   ]
  },
  {
   "cell_type": "markdown",
   "id": "1b9bc132",
   "metadata": {},
   "source": [
    "<ul>\n",
    "    <li><b>Stage 1: </b>We are going to be RandomizedSearch, which helps us explore wide range of parameters efficently, while the computational cost will be adjusted as per our needs based on the n_iter parameter. This helps us narrow out the paramters that work good.</li>\n",
    "    <li><b>Stage 2: </b>Here we use GridSearch, which helps us explore around the resultant good parameters from RandomizedSearch. This ensures that the good paramters will be further revised to produce the best parameters for our model.</li>\n",
    "</ul>"
   ]
  },
  {
   "cell_type": "code",
   "execution_count": 42,
   "id": "608930b6",
   "metadata": {},
   "outputs": [],
   "source": [
    "xgb_param_dist = {\n",
    "    'n_estimators': randint(100, 500),\n",
    "    'max_depth': randint(3, 8),\n",
    "    'learning_rate': uniform(0.01, 0.29),\n",
    "    'subsample': uniform(0.7, 0.3),\n",
    "    'colsample_bytree': uniform(0.7, 0.3),\n",
    "    'reg_alpha': uniform(0, 1),\n",
    "    'reg_lambda': uniform(0, 2)\n",
    "}"
   ]
  },
  {
   "cell_type": "markdown",
   "id": "abd5cde4",
   "metadata": {},
   "source": [
    "<h3>Performing RandomizedSearch on all the 4 feature sets</h3>"
   ]
  },
  {
   "cell_type": "markdown",
   "id": "104e7868",
   "metadata": {},
   "source": [
    "We are going to be implementing RandomizedSearch on all the feature sets for a range of paramters to get the optimal ones."
   ]
  },
  {
   "cell_type": "code",
   "execution_count": 53,
   "id": "8e5acefc",
   "metadata": {},
   "outputs": [],
   "source": [
    "def optimize_xgboost_randomized(feature_sets_dict, param_dist, n_iter=100):\n",
    "    \n",
    "    \"\"\"\n",
    "   Performs RandomizedSearchCV hyperparameter optimization on XGBoost across multiple feature sets.\n",
    "   \n",
    "   Args:\n",
    "       feature_sets_dict: Dictionary of feature sets in format {name: (X_data, y_data)}\n",
    "       param_dist: Parameter distributions for randomized search\n",
    "       n_iter: Number of parameter combinations to test per feature set\n",
    "       \n",
    "   Returns:\n",
    "       dict: Optimization results containing best estimator, parameters, scores, and timing for each feature set\n",
    "   \"\"\"\n",
    "    \n",
    "    results = {}\n",
    "    \n",
    "    for fs_name, (X_data, y_data) in feature_sets_dict.items():  # Unpack tuple\n",
    "        print(f\"Starting RandomizedSearch for XGBoost on {fs_name} ({X_data.shape[1]} features)\")\n",
    "        \n",
    "        xgb_model = XGBClassifier(random_state=42, n_jobs=-1, eval_metric='mlogloss')\n",
    "        \n",
    "        random_search = RandomizedSearchCV(\n",
    "            estimator=xgb_model,\n",
    "            param_distributions=param_dist,\n",
    "            n_iter=n_iter,\n",
    "            cv=3,\n",
    "            scoring='f1_macro',\n",
    "            n_jobs=-1,\n",
    "            random_state=42,\n",
    "            verbose=1\n",
    "        )\n",
    "        \n",
    "        start_time = time.time()\n",
    "        random_search.fit(X_data, y_data)  \n",
    "        optimization_time = time.time() - start_time\n",
    "        \n",
    "        results[fs_name] = {\n",
    "            'best_estimator': random_search.best_estimator_,\n",
    "            'best_params': random_search.best_params_,\n",
    "            'best_score': random_search.best_score_,\n",
    "            'optimization_time': optimization_time\n",
    "        }\n",
    "        \n",
    "        print(f\"Completed {fs_name}: Best CV F1 = {random_search.best_score_:.4f}\")\n",
    "        print(f\"Best params: {random_search.best_params_}\")\n",
    "        print(f\"Time: {optimization_time:.1f} seconds\\n\")\n",
    "    \n",
    "    return results"
   ]
  },
  {
   "cell_type": "markdown",
   "id": "e423f88f",
   "metadata": {},
   "source": [
    "So now the function is written, we can go ahead and call it and view the optimal parameters found by RandomizedSearch for each feature set."
   ]
  },
  {
   "cell_type": "code",
   "execution_count": 54,
   "id": "919d1197",
   "metadata": {},
   "outputs": [
    {
     "name": "stdout",
     "output_type": "stream",
     "text": [
      "Starting RandomizedSearch for XGBoost on All Features (561 features)\n",
      "Fitting 3 folds for each of 100 candidates, totalling 300 fits\n",
      "Completed All Features: Best CV F1 = 0.9225\n",
      "Best params: {'colsample_bytree': 0.7223651931039312, 'learning_rate': 0.29619721161415, 'max_depth': 3, 'n_estimators': 235, 'reg_alpha': 0.005522117123602399, 'reg_lambda': 1.6309228569096683, 'subsample': 0.9120572031542851}\n",
      "Time: 1937.3 seconds\n",
      "\n",
      "Starting RandomizedSearch for XGBoost on Research Features (66 features)\n",
      "Fitting 3 folds for each of 100 candidates, totalling 300 fits\n",
      "Completed Research Features: Best CV F1 = 0.9075\n",
      "Best params: {'colsample_bytree': 0.865476361763221, 'learning_rate': 0.057801935729730275, 'max_depth': 3, 'n_estimators': 473, 'reg_alpha': 0.8105533307818329, 'reg_lambda': 1.974552258629889, 'subsample': 0.7451250673310584}\n",
      "Time: 271.4 seconds\n",
      "\n",
      "Starting RandomizedSearch for XGBoost on RF Efficent (26 features)\n",
      "Fitting 3 folds for each of 100 candidates, totalling 300 fits\n",
      "Completed RF Efficent: Best CV F1 = 0.8961\n",
      "Best params: {'colsample_bytree': 0.925712358831304, 'learning_rate': 0.23955792268049605, 'max_depth': 3, 'n_estimators': 138, 'reg_alpha': 0.09120610304869037, 'reg_lambda': 0.9888406094051629, 'subsample': 0.7172676280049932}\n",
      "Time: 99.7 seconds\n",
      "\n",
      "Starting RandomizedSearch for XGBoost on XGB Accurate (54 features)\n",
      "Fitting 3 folds for each of 100 candidates, totalling 300 fits\n",
      "Completed XGB Accurate: Best CV F1 = 0.9169\n",
      "Best params: {'colsample_bytree': 0.9428083466435541, 'learning_rate': 0.2449328844569624, 'max_depth': 3, 'n_estimators': 112, 'reg_alpha': 0.08159418040024036, 'reg_lambda': 0.010369725547973552, 'subsample': 0.8883683244845908}\n",
      "Time: 210.3 seconds\n",
      "\n"
     ]
    }
   ],
   "source": [
    "xgb_random_results = optimize_xgboost_randomized(feature_sets, xgb_param_dist)"
   ]
  },
  {
   "cell_type": "markdown",
   "id": "38784970",
   "metadata": {},
   "source": [
    "<h3>Comparision with baseline</h3>"
   ]
  },
  {
   "cell_type": "code",
   "execution_count": 63,
   "id": "b8c59b41",
   "metadata": {},
   "outputs": [
    {
     "name": "stdout",
     "output_type": "stream",
     "text": [
      "Feature set All Features\n",
      "Baseline F1: 0.9069\n",
      "Optimized F1: 0.9225\n",
      "Improvement: +0.0156\n",
      "\n",
      "Feature set Research Features\n",
      "Baseline F1: 0.8925\n",
      "Optimized F1: 0.9075\n",
      "Improvement: +0.0150\n",
      "\n",
      "Feature set RF Efficent\n",
      "Baseline F1: 0.8861\n",
      "Optimized F1: 0.8961\n",
      "Improvement: +0.0100\n",
      "\n",
      "Feature set XGB Accurate\n",
      "Baseline F1: 0.8954\n",
      "Optimized F1: 0.9169\n",
      "Improvement: +0.0215\n",
      "\n"
     ]
    }
   ],
   "source": [
    "for fs_name in feature_sets.keys():\n",
    "    optimized_f1 = xgb_random_results[fs_name]['best_score']\n",
    "    baseline_f1 = baseline_3fold_results[fs_name]['baseline_f1']\n",
    "    improvement = optimized_f1 - baseline_f1\n",
    "    print(f\"Feature set {fs_name}\")\n",
    "    print(f\"Baseline F1: {baseline_f1:.4f}\")\n",
    "    print(f\"Optimized F1: {optimized_f1:.4f}\")\n",
    "    print(f\"Improvement: {improvement:+.4f}\\n\")"
   ]
  },
  {
   "cell_type": "markdown",
   "id": "37aad7cc",
   "metadata": {},
   "source": [
    "We can see that there has been an increase in atleast 1-2.15 percent from the baseline model with default parameters to parameters tuned for each model."
   ]
  },
  {
   "cell_type": "markdown",
   "id": "7e37f946",
   "metadata": {},
   "source": [
    "<h3>Grid Optimization for GridSearch</h3>"
   ]
  },
  {
   "cell_type": "markdown",
   "id": "1052f2a7",
   "metadata": {},
   "source": [
    "We have got good increase in f1_macro score, but let us just do some further refinement just to make sure we have the true optimal parameters."
   ]
  },
  {
   "cell_type": "markdown",
   "id": "052b3bb3",
   "metadata": {},
   "source": [
    "But before we GridSearch, the paramters obtained from RandomizedSearch are different for each model. In GridSearch, we are not going to search far away from the optimal paramters already obtained, so we have to have different set of parameters for each model for GridSearch."
   ]
  },
  {
   "cell_type": "markdown",
   "id": "b9b34253",
   "metadata": {},
   "source": [
    "So we will write a function that gets the best parameters for each feature set and searches 0.9, 1.1 additional values to see if the models can get any better."
   ]
  },
  {
   "cell_type": "code",
   "execution_count": 77,
   "id": "b58aaa1b",
   "metadata": {},
   "outputs": [],
   "source": [
    "def create_refined_grids(xgb_random_results):\n",
    "    \n",
    "    \"\"\"\n",
    "   Creates refined parameter grids for GridSearchCV based on RandomizedSearchCV best parameters.\n",
    "   \n",
    "   Args:\n",
    "       xgb_random_results: Dictionary containing RandomizedSearchCV results with best parameters\n",
    "       \n",
    "   Returns:\n",
    "       dict: Refined parameter grids with conservative ranges (±10%) around optimal values for each feature set\n",
    "   \"\"\"\n",
    "    \n",
    "    refined_grids = {}\n",
    "    \n",
    "    for fs_name, results in xgb_random_results.items():\n",
    "        best_params = results['best_params']\n",
    "        \n",
    "        best_lr = best_params['learning_rate']\n",
    "        best_depth = best_params['max_depth'] \n",
    "        best_n_est = best_params['n_estimators']\n",
    "        \n",
    "        # \n",
    "        depth_values = list(set([max(3, best_depth - 1), best_depth, min(8, best_depth + 1)]))\n",
    "        depth_values.sort()  \n",
    "        \n",
    "        refined_grids[fs_name] = {\n",
    "            'learning_rate': [best_lr * 0.9, best_lr, best_lr * 1.1],\n",
    "            'max_depth': depth_values,  # Only unique values\n",
    "            'n_estimators': [int(best_n_est * 0.9), best_n_est, int(best_n_est * 1.1)]\n",
    "        }\n",
    "    \n",
    "    return refined_grids"
   ]
  },
  {
   "cell_type": "code",
   "execution_count": 78,
   "id": "32b3c857",
   "metadata": {},
   "outputs": [],
   "source": [
    "refined_grids = create_refined_grids(xgb_random_results)"
   ]
  },
  {
   "cell_type": "markdown",
   "id": "61b0ea3a",
   "metadata": {},
   "source": [
    "We are going to implement GridSearch just like we implemented RandomizedSearch and see how the results will look like."
   ]
  },
  {
   "cell_type": "code",
   "execution_count": 79,
   "id": "1830dde4",
   "metadata": {},
   "outputs": [],
   "source": [
    "def optimize_xgboost_gridsearch(feature_sets, refined_grids):\n",
    "    \n",
    "    \"\"\"\n",
    "   Performs GridSearchCV refinement using focused parameter grids around previously identified optimal values.\n",
    "   \n",
    "   Args:\n",
    "       feature_sets: Dictionary of feature sets in format {name: (X_data, y_data)}\n",
    "       refined_grids: Dictionary of refined parameter grids for each feature set\n",
    "       \n",
    "   Returns:\n",
    "       dict: Grid search results containing best estimator, parameters, scores, and timing for each feature set\n",
    "   \"\"\"\n",
    "    \n",
    "    grid_results = {}\n",
    "    \n",
    "    for fs_name, (X_data, y_data) in feature_sets.items():\n",
    "        print(f\"GridSearch refinement for {fs_name} ({X_data.shape[1]} features)\")\n",
    "        \n",
    "        xgb_model = XGBClassifier(random_state=42, n_jobs=-1, eval_metric='mlogloss')\n",
    "        \n",
    "        grid_search = GridSearchCV(\n",
    "            estimator=xgb_model,\n",
    "            param_grid=refined_grids[fs_name],\n",
    "            cv=3,\n",
    "            scoring='f1_macro',\n",
    "            n_jobs=-1,\n",
    "            verbose=1\n",
    "        )\n",
    "        \n",
    "        start_time = time.time()\n",
    "        grid_search.fit(X_data, y_data)\n",
    "        optimization_time = time.time() - start_time\n",
    "        \n",
    "        grid_results[fs_name] = {\n",
    "            'best_estimator': grid_search.best_estimator_,\n",
    "            'best_params': grid_search.best_params_,\n",
    "            'best_score': grid_search.best_score_,\n",
    "            'optimization_time': optimization_time\n",
    "        }\n",
    "        \n",
    "        print(f\"Completed {fs_name}: Best CV F1 = {grid_search.best_score_:.4f}\")\n",
    "        print(f\"Time: {optimization_time:.1f} seconds\\n\")\n",
    "    \n",
    "    return grid_results"
   ]
  },
  {
   "cell_type": "code",
   "execution_count": 82,
   "id": "08c0ea3a",
   "metadata": {},
   "outputs": [
    {
     "name": "stdout",
     "output_type": "stream",
     "text": [
      "GridSearch refinement for All Features (561 features)\n",
      "Fitting 3 folds for each of 18 candidates, totalling 54 fits\n",
      "Completed All Features: Best CV F1 = 0.9204\n",
      "Time: 160.5 seconds\n",
      "\n",
      "GridSearch refinement for Research Features (66 features)\n",
      "Fitting 3 folds for each of 18 candidates, totalling 54 fits\n",
      "Completed Research Features: Best CV F1 = 0.9010\n",
      "Time: 105.9 seconds\n",
      "\n",
      "GridSearch refinement for RF Efficent (26 features)\n",
      "Fitting 3 folds for each of 18 candidates, totalling 54 fits\n",
      "Completed RF Efficent: Best CV F1 = 0.8976\n",
      "Time: 8.5 seconds\n",
      "\n",
      "GridSearch refinement for XGB Accurate (54 features)\n",
      "Fitting 3 folds for each of 18 candidates, totalling 54 fits\n",
      "Completed XGB Accurate: Best CV F1 = 0.9139\n",
      "Time: 11.8 seconds\n",
      "\n"
     ]
    }
   ],
   "source": [
    "grid_results = optimize_xgboost_gridsearch(feature_sets, refined_grids)"
   ]
  },
  {
   "cell_type": "markdown",
   "id": "e30c2d60",
   "metadata": {},
   "source": [
    "So the inference would be to stick with the RandomizedSearch parameters as the final parameters, since GridSearch did not yield better results that RandomizedSearch."
   ]
  },
  {
   "cell_type": "markdown",
   "id": "ee403ada",
   "metadata": {},
   "source": [
    "<h3>Training models on optimal parameters for each feature set</h3>"
   ]
  },
  {
   "cell_type": "markdown",
   "id": "43c50536",
   "metadata": {},
   "source": [
    "Before we head to our final testing, we train the models on their respective best parameters and get them ready for final testing on the testing set."
   ]
  },
  {
   "cell_type": "code",
   "execution_count": 85,
   "id": "f9bd59ad",
   "metadata": {},
   "outputs": [],
   "source": [
    "def train_optimized_models(feature_sets, xgb_random_results):\n",
    "    \n",
    "    \"\"\"\n",
    "   Trains final XGBoost models using optimal hyperparameters on complete training datasets.\n",
    "   \n",
    "   Args:\n",
    "       feature_sets: Dictionary of feature sets in format {name: (X_data, y_data)}\n",
    "       xgb_random_results: Dictionary containing optimal parameters from RandomizedSearchCV\n",
    "       \n",
    "   Returns:\n",
    "       dict: Trained models with metadata including parameters, training time, and feature count\n",
    "   \"\"\"\n",
    "    \n",
    "    trained_models = {}\n",
    "    \n",
    "    for fs_name, (X_train, y_train) in feature_sets.items():\n",
    "        print(f\"Training optimized model for {fs_name} ({X_train.shape[1]} features)\")\n",
    "        \n",
    "        best_params = xgb_random_results[fs_name]['best_params']\n",
    "        \n",
    "        optimized_model = XGBClassifier(\n",
    "            **best_params,\n",
    "            random_state=42,\n",
    "            n_jobs=-1,\n",
    "            eval_metric='mlogloss'\n",
    "        )\n",
    "        \n",
    "        start_time = time.time()\n",
    "        optimized_model.fit(X_train, y_train)\n",
    "        training_time = time.time() - start_time\n",
    "        \n",
    "        trained_models[fs_name] = {\n",
    "            'model': optimized_model,\n",
    "            'best_params': best_params,\n",
    "            'training_time': training_time,\n",
    "            'num_features': X_train.shape[1]\n",
    "        }\n",
    "        \n",
    "        print(f\"Training completed in {training_time:.1f} seconds\")\n",
    "        print(f\"Model parameters: {best_params}\")\n",
    "        print()\n",
    "    \n",
    "    return trained_models"
   ]
  },
  {
   "cell_type": "code",
   "execution_count": 86,
   "id": "5b3371b8",
   "metadata": {},
   "outputs": [
    {
     "name": "stdout",
     "output_type": "stream",
     "text": [
      "Training optimized model for All Features (561 features)\n",
      "Training completed in 8.2 seconds\n",
      "Model parameters: {'colsample_bytree': 0.7223651931039312, 'learning_rate': 0.29619721161415, 'max_depth': 3, 'n_estimators': 235, 'reg_alpha': 0.005522117123602399, 'reg_lambda': 1.6309228569096683, 'subsample': 0.9120572031542851}\n",
      "\n",
      "Training optimized model for Research Features (66 features)\n",
      "Training completed in 3.3 seconds\n",
      "Model parameters: {'colsample_bytree': 0.865476361763221, 'learning_rate': 0.057801935729730275, 'max_depth': 3, 'n_estimators': 473, 'reg_alpha': 0.8105533307818329, 'reg_lambda': 1.974552258629889, 'subsample': 0.7451250673310584}\n",
      "\n",
      "Training optimized model for RF Efficent (26 features)\n",
      "Training completed in 0.4 seconds\n",
      "Model parameters: {'colsample_bytree': 0.925712358831304, 'learning_rate': 0.23955792268049605, 'max_depth': 3, 'n_estimators': 138, 'reg_alpha': 0.09120610304869037, 'reg_lambda': 0.9888406094051629, 'subsample': 0.7172676280049932}\n",
      "\n",
      "Training optimized model for XGB Accurate (54 features)\n",
      "Training completed in 0.6 seconds\n",
      "Model parameters: {'colsample_bytree': 0.9428083466435541, 'learning_rate': 0.2449328844569624, 'max_depth': 3, 'n_estimators': 112, 'reg_alpha': 0.08159418040024036, 'reg_lambda': 0.010369725547973552, 'subsample': 0.8883683244845908}\n",
      "\n"
     ]
    }
   ],
   "source": [
    "final_trained_models = train_optimized_models(feature_sets, xgb_random_results)"
   ]
  },
  {
   "cell_type": "markdown",
   "id": "2abbfe3a",
   "metadata": {},
   "source": [
    "The models are trained, now let us create a testing sets dictionary."
   ]
  },
  {
   "cell_type": "code",
   "execution_count": 99,
   "id": "a3a07dac",
   "metadata": {},
   "outputs": [],
   "source": [
    "test_feature_sets = {\n",
    "    \"All Features\" : (X_test, y_test),\n",
    "    \"Research Features\" : (research_X_test, y_test),\n",
    "    \"RF Efficent\" : (rf_efficent_X_test, y_test),\n",
    "    \"XGB Accurate\" : (xgb_accurate_X_test, y_test)\n",
    "}"
   ]
  },
  {
   "cell_type": "markdown",
   "id": "4538697a",
   "metadata": {},
   "source": [
    "So here comes the final part we have been waiting for, the models showdown (althought we know which the most accurate model is going to be). Let the drumroll begin to see the final performance."
   ]
  },
  {
   "cell_type": "code",
   "execution_count": 103,
   "id": "2f613c0a",
   "metadata": {},
   "outputs": [],
   "source": [
    "def evaluate_final_models(trained_models, test_sets):\n",
    "    \n",
    "    \"\"\"\n",
    "   Evaluates trained models on test sets and calculates comprehensive performance metrics.\n",
    "   \n",
    "   Args:\n",
    "       trained_models: Dictionary of trained models with metadata\n",
    "       test_sets: Dictionary of test sets in format {name: (X_test, y_test)}\n",
    "       \n",
    "   Returns:\n",
    "       dict: Test performance metrics including accuracy, F1-score, efficiency score, and inference timing\n",
    "   \"\"\"\n",
    "    \n",
    "    test_results = {}\n",
    "    \n",
    "    for fs_name, model_info in trained_models.items():\n",
    "        print(f\"Evaluating {fs_name} on test set ({model_info['num_features']} features)\")\n",
    "        \n",
    "        model = model_info['model']\n",
    "        \n",
    "        X_test, y_test = test_sets[fs_name]\n",
    "        \n",
    "        start_time = time.time()\n",
    "        y_pred = model.predict(X_test)\n",
    "        inference_time = time.time() - start_time\n",
    "        \n",
    "        test_accuracy = accuracy_score(y_test, y_pred)\n",
    "        test_f1 = f1_score(y_test, y_pred, average='macro')\n",
    "        efficiency_score = (test_accuracy * test_f1 * 1000) / model_info['num_features']\n",
    "        \n",
    "        test_results[fs_name] = {\n",
    "            'test_accuracy': test_accuracy,\n",
    "            'test_f1': test_f1,\n",
    "            'efficiency_score': efficiency_score,\n",
    "            'inference_time': inference_time,\n",
    "            'num_features': model_info['num_features'],\n",
    "            'best_params': model_info['best_params']\n",
    "        }\n",
    "        \n",
    "        print(f\"Test Accuracy: {test_accuracy:.4f}\")\n",
    "        print(f\"Test F1-macro: {test_f1:.4f}\")\n",
    "        print(f\"Efficiency Score: {efficiency_score:.2f}\")\n",
    "        print(f\"Inference Time: {inference_time:.4f}s\")\n",
    "        print()\n",
    "    \n",
    "    return test_results"
   ]
  },
  {
   "cell_type": "markdown",
   "id": "070f7af6",
   "metadata": {},
   "source": [
    "<h3>Final Results</h3>"
   ]
  },
  {
   "cell_type": "code",
   "execution_count": 104,
   "id": "ef2dc4d0",
   "metadata": {},
   "outputs": [
    {
     "name": "stdout",
     "output_type": "stream",
     "text": [
      "Evaluating All Features on test set (561 features)\n",
      "Test Accuracy: 0.9572\n",
      "Test F1-macro: 0.9569\n",
      "Efficiency Score: 1.63\n",
      "Inference Time: 0.0796s\n",
      "\n",
      "Evaluating Research Features on test set (66 features)\n",
      "Test Accuracy: 0.9240\n",
      "Test F1-macro: 0.9224\n",
      "Efficiency Score: 12.91\n",
      "Inference Time: 0.0160s\n",
      "\n",
      "Evaluating RF Efficent on test set (26 features)\n",
      "Test Accuracy: 0.9152\n",
      "Test F1-macro: 0.9140\n",
      "Efficiency Score: 32.17\n",
      "Inference Time: 0.0054s\n",
      "\n",
      "Evaluating XGB Accurate on test set (54 features)\n",
      "Test Accuracy: 0.9203\n",
      "Test F1-macro: 0.9189\n",
      "Efficiency Score: 15.66\n",
      "Inference Time: 0.0094s\n",
      "\n"
     ]
    }
   ],
   "source": [
    "final_test_results = evaluate_final_models(final_trained_models, test_feature_sets)"
   ]
  },
  {
   "cell_type": "markdown",
   "id": "75cc071b",
   "metadata": {},
   "source": [
    "<h3>Observations</h3>"
   ]
  },
  {
   "cell_type": "markdown",
   "id": "a064193b",
   "metadata": {},
   "source": [
    "<ul>\n",
    "    <li><b>Most Accurate Feature Set: </b>The best feature set with the highest accuracy is the one containing all the features as expected with an accuracy of almost 96 percent on the testing set.</li>\n",
    "    <li><b>Research Feature Set: </b>Althought it is not the best performing set during training it generalized well on the testing set with just around 3 percent decrease in accuracy compared to 88% reduction in features.</li>\n",
    "    <li><b>XGB Accurate Dataset: </b>This is the feature set with the second highest accuracy (92%) with over 90% reduction in features.</li>\n",
    "    <li><b>RandomForest Efficent Dataset: </b>With over 95% reduction in features and over 91% in accuracy, it is safe to say that it is the most efficent model in our arsenal. This model is just under 19.7 times more efficent than the All Feature set model</li>\n",
    "</ul>"
   ]
  },
  {
   "cell_type": "markdown",
   "id": "74cdd32c",
   "metadata": {},
   "source": [
    "<h3>Confusion Matrices</h3>"
   ]
  },
  {
   "cell_type": "markdown",
   "id": "3c64eeb8",
   "metadata": {},
   "source": [
    "One of the most important aspect would be to know what categories our models go the most confused on, so we can cross check it with if human's identification accuracy to say if we can still improve the model or not."
   ]
  },
  {
   "cell_type": "code",
   "execution_count": 108,
   "id": "283305a1",
   "metadata": {},
   "outputs": [],
   "source": [
    "def create_confusion_matrices(trained_models, test_sets, test_results):\n",
    "    \n",
    "    \"\"\"\n",
    "   Generates confusion matrices for all trained models to analyze prediction errors and per-class performance.\n",
    "   \n",
    "   Args:\n",
    "       trained_models: Dictionary of trained models with metadata\n",
    "       test_sets: Dictionary of test sets in format {name: (X_test, y_test)}\n",
    "       test_results: Dictionary containing test performance metrics\n",
    "       \n",
    "   Returns:\n",
    "       None: Displays visualization and prints per-class accuracy metrics\n",
    "   \"\"\"\n",
    "    \n",
    "    activity_labels = ['Walking', 'Walking_Upstairs', 'Walking_Downstairs', \n",
    "                      'Sitting', 'Standing', 'Laying']\n",
    "    \n",
    "    fig, axes = plt.subplots(2, 2, figsize=(15, 12))\n",
    "    axes = axes.flatten()\n",
    "    \n",
    "    for idx, (fs_name, model_info) in enumerate(trained_models.items()):\n",
    "        model = model_info['model']\n",
    "        X_test, y_test = test_sets[fs_name]\n",
    "        \n",
    "        y_pred = model.predict(X_test)\n",
    "        \n",
    "        cm = confusion_matrix(y_test, y_pred)\n",
    "        \n",
    "        accuracy = test_results[fs_name]['test_accuracy']\n",
    "        \n",
    "        sns.heatmap(cm, annot=True, fmt='d', cmap='Blues',\n",
    "                   xticklabels=activity_labels,\n",
    "                   yticklabels=activity_labels,\n",
    "                   ax=axes[idx])\n",
    "        \n",
    "        axes[idx].set_title(f'{fs_name}\\nAccuracy: {accuracy:.3f}')\n",
    "        axes[idx].set_xlabel('Predicted')\n",
    "        axes[idx].set_ylabel('Actual')\n",
    "        \n",
    "        class_accuracy = cm.diagonal() / cm.sum(axis=1)\n",
    "        print(f\"\\n{fs_name} - Per-class accuracy:\")\n",
    "        for i, activity in enumerate(activity_labels):\n",
    "            print(f\"  {activity}: {class_accuracy[i]:.3f}\")\n",
    "    \n",
    "    plt.tight_layout()\n",
    "    plt.show()"
   ]
  },
  {
   "cell_type": "code",
   "execution_count": 109,
   "id": "ed12a3a2",
   "metadata": {},
   "outputs": [
    {
     "name": "stdout",
     "output_type": "stream",
     "text": [
      "\n",
      "All Features - Per-class accuracy:\n",
      "  Walking: 0.984\n",
      "  Walking_Upstairs: 0.955\n",
      "  Walking_Downstairs: 0.948\n",
      "  Sitting: 0.886\n",
      "  Standing: 0.964\n",
      "  Laying: 1.000\n",
      "\n",
      "Research Features - Per-class accuracy:\n",
      "  Walking: 0.933\n",
      "  Walking_Upstairs: 0.898\n",
      "  Walking_Downstairs: 0.888\n",
      "  Sitting: 0.876\n",
      "  Standing: 0.934\n",
      "  Laying: 1.000\n",
      "\n",
      "RF Efficent - Per-class accuracy:\n",
      "  Walking: 0.988\n",
      "  Walking_Upstairs: 0.879\n",
      "  Walking_Downstairs: 0.886\n",
      "  Sitting: 0.792\n",
      "  Standing: 0.930\n",
      "  Laying: 1.000\n",
      "\n",
      "XGB Accurate - Per-class accuracy:\n",
      "  Walking: 0.986\n",
      "  Walking_Upstairs: 0.890\n",
      "  Walking_Downstairs: 0.886\n",
      "  Sitting: 0.792\n",
      "  Standing: 0.951\n",
      "  Laying: 1.000\n"
     ]
    },
    {
     "data": {
      "image/png": "[encoded data removed]",
      "text/plain": [
       "<Figure size 1500x1200 with 8 Axes>"
      ]
     },
     "metadata": {},
     "output_type": "display_data"
    }
   ],
   "source": [
    "create_confusion_matrices(final_trained_models, test_feature_sets, final_test_results)"
   ]
  },
  {
   "cell_type": "markdown",
   "id": "e7f805f3",
   "metadata": {},
   "source": [
    "<h3>Inference from Confusion Matrices</h3>"
   ]
  },
  {
   "cell_type": "markdown",
   "id": "7f9629af",
   "metadata": {},
   "source": [
    "<ul>\n",
    "    <li>The most confused categories for all our models are Sitting and Standing, which is understandable. Even humans struggle to classify those two solely based on a few metric like jerk, entropy, gravity etc, which if you take a look is a lot similar for both the categories.</li>\n",
    "    <li>The category laying is isolated from all the other categories, hence it is easily identifiable.</li>\n",
    "    <li>The Research Feature set balances the accuracy in identifying all the categories, while the RF efficent and XGB accurate set Sitting prediction is off by a large margin comapred to other categories.</li>"
   ]
  },
  {
   "cell_type": "markdown",
   "id": "2713b2d2",
   "metadata": {},
   "source": [
    "<h3>Business Use Case Recommendations</h3>"
   ]
  },
  {
   "cell_type": "markdown",
   "id": "235c8962",
   "metadata": {},
   "source": [
    "<h4>What feature set should we use based on the business scenario?</h4>"
   ]
  },
  {
   "cell_type": "markdown",
   "id": "d4729dd0",
   "metadata": {},
   "source": [
    "<ul>\n",
    "    <li><b>We want a model with the highest accuracy and the resources are abundant: </b> We use the XGBoost model with All Features</li>\n",
    "    <li><b>We want a high accuracy model and the resources are limited: </b> We use the XGBoost model with XGB Accurate set which is 90% lighter. </li>\n",
    "    <li><b>We want a model for mobile and IoT applications so the model should be very light and of decent accuracy </b> We use the XGBoost model with RF efficent feature set.</li>\n",
    "</ul>"
   ]
  },
  {
   "cell_type": "markdown",
   "id": "288783ae",
   "metadata": {},
   "source": [
    "<h3>Future Potential</h3>"
   ]
  },
  {
   "cell_type": "markdown",
   "id": "4e59e1df",
   "metadata": {},
   "source": [
    "<ul>\n",
    "    <li>Identify features responsible for identifying <b>sitting</b> category using various feature combinatin techniques and add them to the RF efficent set to make it more accurate and bring it closer to the baseline performance. Make sure the feature additions do not hurt the other category identification performance (SHAP analysis might help).</li>\n",
    "    <li>Deploy model of choice based on business scenario on a cloud platform and build and api, so that applications can use this model.</li>\n",
    "    <li>Use MLops to monnitor performance and drift of the model and also build automatic re-training pipelines.</li>"
   ]
  }
 ],
 "metadata": {
  "kernelspec": {
   "display_name": "Python 3 (ipykernel)",
   "language": "python",
   "name": "python3"
  },
  "language_info": {
   "codemirror_mode": {
    "name": "ipython",
    "version": 3
   },
   "file_extension": ".py",
   "mimetype": "text/x-python",
   "name": "python",
   "nbconvert_exporter": "python",
   "pygments_lexer": "ipython3",
   "version": "3.9.12"
  }
 },
 "nbformat": 4,
 "nbformat_minor": 5
}
