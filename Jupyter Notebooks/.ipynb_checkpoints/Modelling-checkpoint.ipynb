{
 "cells": [
  {
   "cell_type": "markdown",
   "id": "83ded7f4",
   "metadata": {},
   "source": [
    "<center><h1>Modelling</h1></center>"
   ]
  },
  {
   "cell_type": "markdown",
   "id": "31ce1f70",
   "metadata": {},
   "source": [
    "<h2>Importing Libraries</h2>"
   ]
  },
  {
   "cell_type": "code",
   "execution_count": 1,
   "id": "532c5a21",
   "metadata": {},
   "outputs": [],
   "source": [
    "import pandas as pd\n",
    "import numpy as np\n",
    "from sklearn.model_selection import StratifiedKFold, cross_validate\n",
    "from sklearn.ensemble import RandomForestClassifier\n",
    "from xgboost import XGBClassifier"
   ]
  },
  {
   "cell_type": "markdown",
   "id": "b76bac6d",
   "metadata": {},
   "source": [
    "<h2>Importing Feature sets</h2>"
   ]
  },
  {
   "cell_type": "code",
   "execution_count": 2,
   "id": "1b9dc751",
   "metadata": {},
   "outputs": [],
   "source": [
    "X_train = pd.read_csv(\"../Processed Data/All Features/X_train.csv\")\n",
    "X_test = pd.read_csv(\"../Processed Data/All Features/X_test.csv\")\n",
    "Y_train = pd.read_csv(\"../Processed Data/All Features/Y_train.csv\")\n",
    "Y_test = pd.read_csv(\"../Processed Data/All Features/Y_test.csv\")"
   ]
  },
  {
   "cell_type": "code",
   "execution_count": 3,
   "id": "55e7e781",
   "metadata": {},
   "outputs": [],
   "source": [
    "y_train = Y_train[\"activity_code\"] - 1\n",
    "y_test = Y_test[\"activity_code\"] - 1"
   ]
  },
  {
   "cell_type": "code",
   "execution_count": 4,
   "id": "e831389d",
   "metadata": {},
   "outputs": [
    {
     "data": {
      "text/plain": [
       "5    537\n",
       "4    532\n",
       "0    496\n",
       "3    491\n",
       "1    471\n",
       "2    420\n",
       "Name: activity_code, dtype: int64"
      ]
     },
     "execution_count": 4,
     "metadata": {},
     "output_type": "execute_result"
    }
   ],
   "source": [
    "y_test.value_counts()"
   ]
  },
  {
   "cell_type": "markdown",
   "id": "e70c0f87",
   "metadata": {},
   "source": [
    "<h2>Cross Validation</h2>"
   ]
  },
  {
   "cell_type": "markdown",
   "id": "a9ada388",
   "metadata": {},
   "source": [
    "It is generally a good idea to have a validation set, so we can test our model performance on validation and see if there is something we need to do. But having one split may result in depending solely on a single set, which might have unforseen consequesnces. So that is why instead of just 1 we have multiple splits, on the training set, in a training size /  number of folds (or) sets ratio, wo that we can have multiple validation sets while the remaining sets are used for training."
   ]
  },
  {
   "cell_type": "markdown",
   "id": "b71b6c9b",
   "metadata": {},
   "source": [
    "We are going to be using StratifiegKFold for splitting our training data into 5 sets of training and validation data. Stratified preserves the class distribution which comes handy with Imbalanced datasets. Althought our dataset is not severely imbalanced, it serves the purpose."
   ]
  },
  {
   "cell_type": "code",
   "execution_count": 5,
   "id": "eae338c1",
   "metadata": {},
   "outputs": [],
   "source": [
    "skf = StratifiedKFold(n_splits=5, shuffle=True, random_state=42)"
   ]
  },
  {
   "cell_type": "code",
   "execution_count": 6,
   "id": "539137d2",
   "metadata": {},
   "outputs": [],
   "source": [
    "rf_model = RandomForestClassifier(n_estimators=100, random_state=42, n_jobs=-1)\n",
    "xgb_model = XGBClassifier(n_estimators=100, random_state=42, n_jobs=-1, eval_metric='mlogloss')\n",
    "\n",
    "# The models we want to test\n",
    "models = {\n",
    "    \"Random Forest\" : rf_model,\n",
    "    \"XGBoost\" : xgb_model\n",
    "}"
   ]
  },
  {
   "cell_type": "code",
   "execution_count": 91,
   "id": "6150c2b2",
   "metadata": {},
   "outputs": [],
   "source": [
    "# feature sets we want to test our model\n",
    "feature_sets = {\n",
    "    \"All features\" : (X_train, y_train)\n",
    "}"
   ]
  },
  {
   "cell_type": "code",
   "execution_count": 8,
   "id": "27e0d63f",
   "metadata": {},
   "outputs": [],
   "source": [
    "\"\"\"\n",
    "Performs k-fold cross-validation for each model on each feature set and aggregates the results.\n",
    "\n",
    "This function executes a comprehensive evaluation pipeline by training and testing every\n",
    "provided model on every provided dataset (feature set). It calculates key performance\n",
    "metrics (accuracy and F1 macro) including their mean and standard deviation across all folds.\n",
    "\n",
    "Args:\n",
    "    models (dict): A dictionary of initialized model objects for evaluation.\n",
    "                   Format: { 'model_name': model_instance }\n",
    "    feature_sets (dict): A dictionary of datasets (feature matrices and target vectors).\n",
    "                         Format: { 'feature_set_name': (X_train, y_train) }\n",
    "\n",
    "Returns:\n",
    "    dict: A nested dictionary containing raw cross_validate results for each model-feature set combination.\n",
    "          The keys are strings of the format \"{model_name} {feature_set_name}\".\n",
    "          The values are the full output dictionaries returned by sklearn's `cross_validate` function.\n",
    "\"\"\"\n",
    "\n",
    "\n",
    "def calculate_cross_validation_scores(models, feature_sets):\n",
    "    \n",
    "    model_scores = {}\n",
    "    \n",
    "    for model_name, model in models.items():\n",
    "        for feature_name, (X_train, y_train) in feature_sets.items():\n",
    "            print(f\"\\nScore for {model_name} and the feature set {feature_name}\\n\")\n",
    "            \n",
    "            cv_scores = cross_validate(model, X_train, y_train, cv=skf, scoring=['accuracy', 'f1_macro'])\n",
    "\n",
    "            model_feature_name = model_name + \" \" + feature_name\n",
    "            \n",
    "            if model_feature_name not in model_scores.keys():\n",
    "                model_scores[model_feature_name] = cv_scores\n",
    "\n",
    "            mean_accuracy = cv_scores['test_accuracy'].mean()\n",
    "            std_accuracy = cv_scores['test_accuracy'].std()\n",
    "            f1_macro = cv_scores['test_f1_macro'].mean()\n",
    "            f1_macro_std = cv_scores['test_f1_macro'].std()\n",
    "\n",
    "            print(f\"Mean accuracy across 5 folds is {mean_accuracy:.3f}\")\n",
    "            print(f\"Standard Deviation in accuracy across 5 folds is {std_accuracy:.3f}\")\n",
    "            print(f\"Mean f1_macro across 5 folds is {f1_macro:.3f}\")\n",
    "            print(f\"Standard Deviation in f1_macro across 5 folds is {f1_macro_std:.3f}\") \n",
    "    return model_scores"
   ]
  },
  {
   "cell_type": "code",
   "execution_count": 9,
   "id": "3bb52945",
   "metadata": {},
   "outputs": [
    {
     "name": "stdout",
     "output_type": "stream",
     "text": [
      "\n",
      "Score for Random Forest and the feature set All features\n",
      "\n",
      "Mean accuracy across 5 folds is 0.982\n",
      "Standard Deviation in accuracy across 5 folds is 0.002\n",
      "Mean f1_macro across 5 folds is 0.982\n",
      "Standard Deviation in f1_macro across 5 folds is 0.002\n",
      "\n",
      "Score for XGBoost and the feature set All features\n",
      "\n",
      "Mean accuracy across 5 folds is 0.991\n",
      "Standard Deviation in accuracy across 5 folds is 0.002\n",
      "Mean f1_macro across 5 folds is 0.992\n",
      "Standard Deviation in f1_macro across 5 folds is 0.002\n"
     ]
    }
   ],
   "source": [
    "# The scores variable contains dictionary of dictionaries of scores for each model and feature set\n",
    "scores = calculate_cross_validation_scores(models, feature_sets)"
   ]
  },
  {
   "cell_type": "code",
   "execution_count": 10,
   "id": "d8b4aaa9",
   "metadata": {},
   "outputs": [
    {
     "data": {
      "text/plain": [
       "{'Random Forest All features': {'fit_time': array([4.54524422, 1.40171099, 1.47933531, 1.20769525, 1.356987  ]),\n",
       "  'score_time': array([0.02460408, 0.02986217, 0.01997781, 0.02173686, 0.01852226]),\n",
       "  'test_accuracy': array([0.9789259 , 0.98300476, 0.97959184, 0.9829932 , 0.98367347]),\n",
       "  'test_f1_macro': array([0.97904515, 0.98304675, 0.97966997, 0.98291896, 0.98448599])},\n",
       " 'XGBoost All features': {'fit_time': array([5.75532794, 5.83246112, 7.73947215, 5.84456205, 5.45334387]),\n",
       "  'score_time': array([0.06110168, 0.04615879, 0.04358673, 0.036659  , 0.03780484]),\n",
       "  'test_accuracy': array([0.98844324, 0.99184228, 0.99319728, 0.99115646, 0.99251701]),\n",
       "  'test_f1_macro': array([0.98844554, 0.99218359, 0.99331957, 0.99140177, 0.99278015])}}"
      ]
     },
     "execution_count": 10,
     "metadata": {},
     "output_type": "execute_result"
    }
   ],
   "source": [
    "scores"
   ]
  },
  {
   "cell_type": "markdown",
   "id": "65a9699d",
   "metadata": {},
   "source": [
    "<h2>Model Efficency</h2>"
   ]
  },
  {
   "cell_type": "markdown",
   "id": "cd494a85",
   "metadata": {},
   "source": [
    "Efficency can be determined as performance per feature. The scores can be interpreted as follows:\n",
    "<ul>\n",
    "    <li><b>High Efficiency:</b> Greater than 2.0</li>\n",
    "    <li><b>Good Efficency:</b> 1.5 - 2.0</li>\n",
    "    <li><b>Moderate Efficency:</b> 1.0-1.5</li>\n",
    "    <li><b>Low Efficency:</b>  Less than 1.0</li>\n",
    "</ul>"
   ]
  },
  {
   "cell_type": "code",
   "execution_count": 11,
   "id": "a0e7750d",
   "metadata": {},
   "outputs": [],
   "source": [
    "\"\"\"\n",
    "Calculates a model efficiency metric for each experiment by combining predictive performance\n",
    "with feature set economy.\n",
    "\n",
    "The efficiency score is defined as: (Mean_Accuracy * Mean_F1_Macro * 1000) / Number_of_Features.\n",
    "This rewards models that achieve high performance with fewer features.\n",
    "\n",
    "Args:\n",
    "    scores (dict): A dictionary where keys are experiment names and values are dictionaries\n",
    "                   containing 'test_accuracy' and 'test_f1_macro' score arrays.\n",
    "    feature_sets (dict): A dictionary where keys are feature set names and values are tuples\n",
    "                         containing (feature_matrix, target_vector). The number of features\n",
    "                         is extracted from the shape of the matrix.\n",
    "\n",
    "Returns:\n",
    "    dict: A dictionary where keys are experiment names and values are the calculated efficiency score.\n",
    "\"\"\"\n",
    "\n",
    "\n",
    "def evaluate_model_efficiency(scores, feature_sets):\n",
    "    \n",
    "    efficiencies = {}\n",
    "    \n",
    "    for experiment, score in scores.items():\n",
    "\n",
    "        accuracy = score['test_accuracy'].mean()\n",
    "        f1_macro = score['test_f1_macro'].mean()\n",
    "        \n",
    "        num_features = 0\n",
    " \n",
    "        for feature_name in feature_sets.keys():\n",
    "            if feature_name in experiment:\n",
    "                \n",
    "                num_features = feature_sets[feature_name][0].shape[1]\n",
    "                break\n",
    "\n",
    "        efficiency = (accuracy * f1_macro * 1000) / num_features\n",
    "        \n",
    "        print(f\"Efficency per feature for {experiment} is {efficiency:.2f}\")\n",
    "        \n",
    "        efficiencies[experiment] = efficiency\n",
    "    return efficiencies"
   ]
  },
  {
   "cell_type": "code",
   "execution_count": 12,
   "id": "97edae73",
   "metadata": {},
   "outputs": [
    {
     "name": "stdout",
     "output_type": "stream",
     "text": [
      "Efficency per feature for Random Forest All features is 1.72\n",
      "Efficency per feature for XGBoost All features is 1.75\n"
     ]
    }
   ],
   "source": [
    "# efficiency will be a dictionary of 'experiment_name': efficency pairs\n",
    "efficiencies = evaluate_model_efficiency(scores, feature_sets)"
   ]
  },
  {
   "cell_type": "code",
   "execution_count": null,
   "id": "3adf5594",
   "metadata": {},
   "outputs": [],
   "source": []
  },
  {
   "cell_type": "markdown",
   "id": "32f765af",
   "metadata": {},
   "source": [
    "<h2>Feature set on Random Forest Feature Importance</h2>"
   ]
  },
  {
   "cell_type": "code",
   "execution_count": 13,
   "id": "849f1168",
   "metadata": {},
   "outputs": [
    {
     "data": {
      "text/plain": [
       "RandomForestClassifier(n_jobs=-1, random_state=42)"
      ]
     },
     "execution_count": 13,
     "metadata": {},
     "output_type": "execute_result"
    }
   ],
   "source": [
    "rf_model.fit(X_train, y_train)"
   ]
  },
  {
   "cell_type": "code",
   "execution_count": 70,
   "id": "b299aac9",
   "metadata": {},
   "outputs": [],
   "source": [
    "rf_feature_importances = rf_model.feature_importances_"
   ]
  },
  {
   "cell_type": "code",
   "execution_count": 15,
   "id": "015a928c",
   "metadata": {},
   "outputs": [],
   "source": [
    "feature_names = X_train.columns.tolist()"
   ]
  },
  {
   "cell_type": "code",
   "execution_count": 16,
   "id": "057f6483",
   "metadata": {},
   "outputs": [
    {
     "name": "stdout",
     "output_type": "stream",
     "text": [
      "Top 10 important features are\n",
      "\n",
      "                       feature  importance\n",
      "40     tGravityAcc-mean()-X_40    0.036380\n",
      "49      tGravityAcc-max()-X_49    0.030331\n",
      "558   angle(X,gravityMean)_558    0.029676\n",
      "41     tGravityAcc-mean()-Y_41    0.025355\n",
      "56   tGravityAcc-energy()-X_56    0.024963\n",
      "559   angle(Y,gravityMean)_559    0.024415\n",
      "52      tGravityAcc-min()-X_52    0.022650\n",
      "50      tGravityAcc-max()-Y_50    0.021705\n",
      "53      tGravityAcc-min()-Y_53    0.021635\n",
      "57   tGravityAcc-energy()-Y_57    0.017179\n"
     ]
    }
   ],
   "source": [
    "rf_importance_df = pd.DataFrame({\n",
    "    \"feature\" : feature_names,\n",
    "    \"importance\" : feature_importances\n",
    "}).sort_values(\"importance\", ascending=False)\n",
    "\n",
    "print(\"Top 10 important features are\\n\")\n",
    "print(rf_importance_df.head(10))"
   ]
  },
  {
   "cell_type": "code",
   "execution_count": null,
   "id": "72214756",
   "metadata": {},
   "outputs": [],
   "source": []
  },
  {
   "cell_type": "code",
   "execution_count": 17,
   "id": "1bf9b659",
   "metadata": {},
   "outputs": [],
   "source": [
    "def remove_correlated_features(X_data, feature_names, feature_importances, threshold):\n",
    "    \n",
    "    corr_series = X_data.corr()\n",
    "    \n",
    "    features_to_remove = set()\n",
    "    \n",
    "    for feature1 in feature_names:\n",
    "        if feature1 in features_to_remove:\n",
    "            continue\n",
    "            \n",
    "        highly_correlated = []\n",
    "        for feature2 in feature_names:\n",
    "            if feature1 != feature2 and feature2 not in features_to_remove:\n",
    "                try:\n",
    "                    corr_value = corr_series.loc[feature1, feature2]\n",
    "                except KeyError:\n",
    "                    corr_value = corr_series.loc[feature2, feature1]\n",
    "                if corr_value > threshold:\n",
    "                    highly_correlated.append(feature2)\n",
    "                    \n",
    "        for feature2 in highly_correlated:\n",
    "            f1 = feature_importances[feature_importances['feature'] == feature1].values[0][1]\n",
    "            f2 = feature_importances[feature_importances['feature'] == feature2].values[0][1]\n",
    "            \n",
    "            if f1 < f2:\n",
    "                features_to_remove.add(feature1)\n",
    "            else:\n",
    "                features_to_remove.add(feature2)\n",
    "                \n",
    "    return features_to_remove"
   ]
  },
  {
   "cell_type": "code",
   "execution_count": 18,
   "id": "7ffce111",
   "metadata": {},
   "outputs": [],
   "source": [
    "features_to_remove = remove_correlated_features(X_train, feature_names, rf_importance_df, 0.95)"
   ]
  },
  {
   "cell_type": "code",
   "execution_count": 19,
   "id": "9b35fd33",
   "metadata": {},
   "outputs": [
    {
     "data": {
      "text/plain": [
       "284"
      ]
     },
     "execution_count": 19,
     "metadata": {},
     "output_type": "execute_result"
    }
   ],
   "source": [
    "len(features_to_remove)"
   ]
  },
  {
   "cell_type": "code",
   "execution_count": 20,
   "id": "fb80263f",
   "metadata": {},
   "outputs": [
    {
     "data": {
      "text/plain": [
       "(7352, 561)"
      ]
     },
     "execution_count": 20,
     "metadata": {},
     "output_type": "execute_result"
    }
   ],
   "source": [
    "top_n_features = 561\n",
    "test = X_train[rf_importance_df['feature'][:top_n_features]]\n",
    "test.shape"
   ]
  },
  {
   "cell_type": "code",
   "execution_count": 21,
   "id": "bc8b045e",
   "metadata": {},
   "outputs": [
    {
     "data": {
      "text/plain": [
       "'tBodyAcc-mean()-Y_1'"
      ]
     },
     "execution_count": 21,
     "metadata": {},
     "output_type": "execute_result"
    }
   ],
   "source": [
    "X_train.columns.values[1]"
   ]
  },
  {
   "cell_type": "code",
   "execution_count": 76,
   "id": "df267d55",
   "metadata": {},
   "outputs": [],
   "source": [
    "def create_feature_set(X_data, importance_df, top_n_features, correlation_threshold):\n",
    "    \n",
    "    important_features = X_data[importance_df['feature'][:top_n_features]]\n",
    "    \n",
    "    filtered_importance_df = importance_df[importance_df['feature'].isin(important_features.columns)] \n",
    "    \n",
    "    features_to_remove = remove_correlated_features(important_features, important_features.columns, \n",
    "                                                    filtered_importance_df, correlation_threshold)\n",
    "    \n",
    "    final_feature_set = important_features.drop(list(features_to_remove), axis=1)\n",
    "    \n",
    "    return final_feature_set"
   ]
  },
  {
   "cell_type": "code",
   "execution_count": null,
   "id": "cfc6fb53",
   "metadata": {},
   "outputs": [],
   "source": []
  },
  {
   "cell_type": "code",
   "execution_count": 77,
   "id": "6dea9bc3",
   "metadata": {},
   "outputs": [],
   "source": [
    "test_set = create_feature_set(X_train, rf_importance_df, 100, 0.9)"
   ]
  },
  {
   "cell_type": "code",
   "execution_count": 78,
   "id": "02ee440d",
   "metadata": {},
   "outputs": [
    {
     "data": {
      "text/plain": [
       "(7352, 36)"
      ]
     },
     "execution_count": 78,
     "metadata": {},
     "output_type": "execute_result"
    }
   ],
   "source": [
    "test_set.shape"
   ]
  },
  {
   "cell_type": "code",
   "execution_count": null,
   "id": "b2b8e2ee",
   "metadata": {},
   "outputs": [],
   "source": []
  },
  {
   "cell_type": "code",
   "execution_count": 79,
   "id": "c6cd8185",
   "metadata": {},
   "outputs": [
    {
     "name": "stdout",
     "output_type": "stream",
     "text": [
      "RF feature count 80 correlation threshold 0.85 reduced to 25 features\n",
      "RF feature count 80 correlation threshold 0.9 reduced to 26 features\n",
      "RF feature count 80 correlation threshold 0.95 reduced to 33 features\n",
      "RF feature count 100 correlation threshold 0.85 reduced to 34 features\n",
      "RF feature count 100 correlation threshold 0.9 reduced to 36 features\n",
      "RF feature count 100 correlation threshold 0.95 reduced to 43 features\n",
      "RF feature count 120 correlation threshold 0.85 reduced to 37 features\n",
      "RF feature count 120 correlation threshold 0.9 reduced to 39 features\n",
      "RF feature count 120 correlation threshold 0.95 reduced to 47 features\n"
     ]
    }
   ],
   "source": [
    "feature_counts = [80, 100, 120]\n",
    "correlation_thresholds = [0.85, 0.90, 0.95]\n",
    "\n",
    "rf_feature_sets = {}\n",
    "\n",
    "for count in feature_counts:\n",
    "    for threshold in correlation_thresholds:\n",
    "        feature_set = create_feature_set(X_train, rf_importance_df, count, threshold)\n",
    "        identifying_string = \"RF feature count \" + str(count) + \" correlation threshold \" + str(threshold)\n",
    "        rf_feature_sets[identifying_string] = feature_set\n",
    "        print(f\"{identifying_string} reduced to {feature_set.shape[1]} features\")"
   ]
  },
  {
   "cell_type": "code",
   "execution_count": 75,
   "id": "daeeacde",
   "metadata": {},
   "outputs": [
    {
     "data": {
      "text/html": [
       "<div>\n",
       "<style scoped>\n",
       "    .dataframe tbody tr th:only-of-type {\n",
       "        vertical-align: middle;\n",
       "    }\n",
       "\n",
       "    .dataframe tbody tr th {\n",
       "        vertical-align: top;\n",
       "    }\n",
       "\n",
       "    .dataframe thead th {\n",
       "        text-align: right;\n",
       "    }\n",
       "</style>\n",
       "<table border=\"1\" class=\"dataframe\">\n",
       "  <thead>\n",
       "    <tr style=\"text-align: right;\">\n",
       "      <th></th>\n",
       "      <th>tGravityAcc-mean()-X_40</th>\n",
       "      <th>angle(X,gravityMean)_558</th>\n",
       "      <th>tGravityAcc-mean()-Y_41</th>\n",
       "      <th>angle(Y,gravityMean)_559</th>\n",
       "      <th>tGravityAcc-energy()-Y_57</th>\n",
       "      <th>tGravityAccMag-std()_214</th>\n",
       "      <th>angle(Z,gravityMean)_560</th>\n",
       "      <th>fBodyAccJerk-bandsEnergy()-1,16_403</th>\n",
       "      <th>tGravityAcc-arCoeff()-Z,2_74</th>\n",
       "      <th>tGravityAcc-min()-Z_54</th>\n",
       "      <th>...</th>\n",
       "      <th>tGravityAcc-entropy()-Y_63</th>\n",
       "      <th>tGravityAccMag-arCoeff()1_222</th>\n",
       "      <th>fBodyGyro-maxInds-Z_450</th>\n",
       "      <th>fBodyAccJerk-bandsEnergy()-1,8_381</th>\n",
       "      <th>tGravityAcc-arCoeff()-Y,2_70</th>\n",
       "      <th>tGravityAcc-arCoeff()-X,2_66</th>\n",
       "      <th>fBodyAccJerk-bandsEnergy()-9,16_382</th>\n",
       "      <th>fBodyGyro-bandsEnergy()-1,8_460</th>\n",
       "      <th>tBodyGyro-entropy()-X_142</th>\n",
       "      <th>fBodyGyro-meanFreq()-X_451</th>\n",
       "    </tr>\n",
       "  </thead>\n",
       "  <tbody>\n",
       "    <tr>\n",
       "      <th>0</th>\n",
       "      <td>0.963396</td>\n",
       "      <td>-0.841247</td>\n",
       "      <td>-0.140840</td>\n",
       "      <td>0.179941</td>\n",
       "      <td>-0.970905</td>\n",
       "      <td>-0.950551</td>\n",
       "      <td>-0.058627</td>\n",
       "      <td>-0.999900</td>\n",
       "      <td>0.995675</td>\n",
       "      <td>0.056483</td>\n",
       "      <td>...</td>\n",
       "      <td>-1.0</td>\n",
       "      <td>-0.173179</td>\n",
       "      <td>-1.000000</td>\n",
       "      <td>-0.999986</td>\n",
       "      <td>0.720862</td>\n",
       "      <td>0.591146</td>\n",
       "      <td>-0.999980</td>\n",
       "      <td>-0.999865</td>\n",
       "      <td>0.082632</td>\n",
       "      <td>-0.257549</td>\n",
       "    </tr>\n",
       "    <tr>\n",
       "      <th>1</th>\n",
       "      <td>0.966561</td>\n",
       "      <td>-0.844788</td>\n",
       "      <td>-0.141551</td>\n",
       "      <td>0.180289</td>\n",
       "      <td>-0.970583</td>\n",
       "      <td>-0.976057</td>\n",
       "      <td>-0.054317</td>\n",
       "      <td>-0.999817</td>\n",
       "      <td>0.834271</td>\n",
       "      <td>0.102764</td>\n",
       "      <td>...</td>\n",
       "      <td>-1.0</td>\n",
       "      <td>0.081569</td>\n",
       "      <td>-1.000000</td>\n",
       "      <td>-0.999996</td>\n",
       "      <td>0.125345</td>\n",
       "      <td>0.413856</td>\n",
       "      <td>-0.999980</td>\n",
       "      <td>-0.999851</td>\n",
       "      <td>0.007469</td>\n",
       "      <td>-0.048167</td>\n",
       "    </tr>\n",
       "    <tr>\n",
       "      <th>2</th>\n",
       "      <td>0.966878</td>\n",
       "      <td>-0.848933</td>\n",
       "      <td>-0.142010</td>\n",
       "      <td>0.180637</td>\n",
       "      <td>-0.970368</td>\n",
       "      <td>-0.988020</td>\n",
       "      <td>-0.049118</td>\n",
       "      <td>-0.999732</td>\n",
       "      <td>0.714392</td>\n",
       "      <td>0.102764</td>\n",
       "      <td>...</td>\n",
       "      <td>-1.0</td>\n",
       "      <td>0.038049</td>\n",
       "      <td>-1.000000</td>\n",
       "      <td>-0.999994</td>\n",
       "      <td>0.270500</td>\n",
       "      <td>0.027481</td>\n",
       "      <td>-0.999944</td>\n",
       "      <td>-0.999680</td>\n",
       "      <td>-0.260943</td>\n",
       "      <td>-0.216685</td>\n",
       "    </tr>\n",
       "    <tr>\n",
       "      <th>3</th>\n",
       "      <td>0.967615</td>\n",
       "      <td>-0.848649</td>\n",
       "      <td>-0.143976</td>\n",
       "      <td>0.181935</td>\n",
       "      <td>-0.969400</td>\n",
       "      <td>-0.986421</td>\n",
       "      <td>-0.047663</td>\n",
       "      <td>-0.999798</td>\n",
       "      <td>0.386373</td>\n",
       "      <td>0.095753</td>\n",
       "      <td>...</td>\n",
       "      <td>-1.0</td>\n",
       "      <td>-0.092856</td>\n",
       "      <td>-0.793103</td>\n",
       "      <td>-0.999998</td>\n",
       "      <td>0.228310</td>\n",
       "      <td>0.075427</td>\n",
       "      <td>-0.999965</td>\n",
       "      <td>-0.999964</td>\n",
       "      <td>-0.930551</td>\n",
       "      <td>0.216862</td>\n",
       "    </tr>\n",
       "    <tr>\n",
       "      <th>4</th>\n",
       "      <td>0.968224</td>\n",
       "      <td>-0.847865</td>\n",
       "      <td>-0.148750</td>\n",
       "      <td>0.185151</td>\n",
       "      <td>-0.967051</td>\n",
       "      <td>-0.991275</td>\n",
       "      <td>-0.043892</td>\n",
       "      <td>-0.999878</td>\n",
       "      <td>0.239268</td>\n",
       "      <td>0.094059</td>\n",
       "      <td>...</td>\n",
       "      <td>-1.0</td>\n",
       "      <td>0.180441</td>\n",
       "      <td>-1.000000</td>\n",
       "      <td>-0.999995</td>\n",
       "      <td>0.089943</td>\n",
       "      <td>0.268918</td>\n",
       "      <td>-0.999983</td>\n",
       "      <td>-0.999870</td>\n",
       "      <td>-0.628861</td>\n",
       "      <td>-0.153343</td>\n",
       "    </tr>\n",
       "    <tr>\n",
       "      <th>...</th>\n",
       "      <td>...</td>\n",
       "      <td>...</td>\n",
       "      <td>...</td>\n",
       "      <td>...</td>\n",
       "      <td>...</td>\n",
       "      <td>...</td>\n",
       "      <td>...</td>\n",
       "      <td>...</td>\n",
       "      <td>...</td>\n",
       "      <td>...</td>\n",
       "      <td>...</td>\n",
       "      <td>...</td>\n",
       "      <td>...</td>\n",
       "      <td>...</td>\n",
       "      <td>...</td>\n",
       "      <td>...</td>\n",
       "      <td>...</td>\n",
       "      <td>...</td>\n",
       "      <td>...</td>\n",
       "      <td>...</td>\n",
       "      <td>...</td>\n",
       "    </tr>\n",
       "    <tr>\n",
       "      <th>7347</th>\n",
       "      <td>0.923148</td>\n",
       "      <td>-0.791883</td>\n",
       "      <td>-0.222004</td>\n",
       "      <td>0.238604</td>\n",
       "      <td>-0.918375</td>\n",
       "      <td>-0.093688</td>\n",
       "      <td>0.049819</td>\n",
       "      <td>-0.839183</td>\n",
       "      <td>0.802503</td>\n",
       "      <td>-0.071977</td>\n",
       "      <td>...</td>\n",
       "      <td>-1.0</td>\n",
       "      <td>-0.617906</td>\n",
       "      <td>-0.793103</td>\n",
       "      <td>-0.839256</td>\n",
       "      <td>0.684225</td>\n",
       "      <td>0.660477</td>\n",
       "      <td>-0.762201</td>\n",
       "      <td>-0.818556</td>\n",
       "      <td>0.195518</td>\n",
       "      <td>-0.434780</td>\n",
       "    </tr>\n",
       "    <tr>\n",
       "      <th>7348</th>\n",
       "      <td>0.918343</td>\n",
       "      <td>-0.771840</td>\n",
       "      <td>-0.242054</td>\n",
       "      <td>0.252676</td>\n",
       "      <td>-0.902880</td>\n",
       "      <td>-0.148539</td>\n",
       "      <td>0.050053</td>\n",
       "      <td>-0.843252</td>\n",
       "      <td>0.721749</td>\n",
       "      <td>-0.068919</td>\n",
       "      <td>...</td>\n",
       "      <td>-1.0</td>\n",
       "      <td>-0.468825</td>\n",
       "      <td>-0.931034</td>\n",
       "      <td>-0.854278</td>\n",
       "      <td>0.654116</td>\n",
       "      <td>0.660353</td>\n",
       "      <td>-0.759555</td>\n",
       "      <td>-0.866443</td>\n",
       "      <td>0.535505</td>\n",
       "      <td>-0.516570</td>\n",
       "    </tr>\n",
       "    <tr>\n",
       "      <th>7349</th>\n",
       "      <td>0.919810</td>\n",
       "      <td>-0.779133</td>\n",
       "      <td>-0.236950</td>\n",
       "      <td>0.249145</td>\n",
       "      <td>-0.907561</td>\n",
       "      <td>-0.158701</td>\n",
       "      <td>0.040811</td>\n",
       "      <td>-0.840560</td>\n",
       "      <td>0.835444</td>\n",
       "      <td>-0.068919</td>\n",
       "      <td>...</td>\n",
       "      <td>-1.0</td>\n",
       "      <td>-0.492911</td>\n",
       "      <td>-0.931034</td>\n",
       "      <td>-0.815380</td>\n",
       "      <td>0.448116</td>\n",
       "      <td>0.637481</td>\n",
       "      <td>-0.791132</td>\n",
       "      <td>-0.801291</td>\n",
       "      <td>-0.107501</td>\n",
       "      <td>-0.289537</td>\n",
       "    </tr>\n",
       "    <tr>\n",
       "      <th>7350</th>\n",
       "      <td>0.922323</td>\n",
       "      <td>-0.785181</td>\n",
       "      <td>-0.233230</td>\n",
       "      <td>0.246432</td>\n",
       "      <td>-0.910648</td>\n",
       "      <td>-0.185720</td>\n",
       "      <td>0.025339</td>\n",
       "      <td>-0.822665</td>\n",
       "      <td>0.858624</td>\n",
       "      <td>-0.040009</td>\n",
       "      <td>...</td>\n",
       "      <td>-1.0</td>\n",
       "      <td>-0.526184</td>\n",
       "      <td>-0.793103</td>\n",
       "      <td>-0.822905</td>\n",
       "      <td>0.404027</td>\n",
       "      <td>0.666204</td>\n",
       "      <td>-0.844415</td>\n",
       "      <td>-0.890578</td>\n",
       "      <td>-0.605100</td>\n",
       "      <td>-0.362980</td>\n",
       "    </tr>\n",
       "    <tr>\n",
       "      <th>7351</th>\n",
       "      <td>0.918707</td>\n",
       "      <td>-0.783267</td>\n",
       "      <td>-0.233292</td>\n",
       "      <td>0.246809</td>\n",
       "      <td>-0.910579</td>\n",
       "      <td>-0.229157</td>\n",
       "      <td>0.036695</td>\n",
       "      <td>-0.844201</td>\n",
       "      <td>0.861512</td>\n",
       "      <td>-0.047491</td>\n",
       "      <td>...</td>\n",
       "      <td>-1.0</td>\n",
       "      <td>-0.392873</td>\n",
       "      <td>-0.793103</td>\n",
       "      <td>-0.834215</td>\n",
       "      <td>0.481701</td>\n",
       "      <td>0.652535</td>\n",
       "      <td>-0.843882</td>\n",
       "      <td>-0.856793</td>\n",
       "      <td>0.086563</td>\n",
       "      <td>0.002108</td>\n",
       "    </tr>\n",
       "  </tbody>\n",
       "</table>\n",
       "<p>7352 rows × 25 columns</p>\n",
       "</div>"
      ],
      "text/plain": [
       "      tGravityAcc-mean()-X_40  angle(X,gravityMean)_558  \\\n",
       "0                    0.963396                 -0.841247   \n",
       "1                    0.966561                 -0.844788   \n",
       "2                    0.966878                 -0.848933   \n",
       "3                    0.967615                 -0.848649   \n",
       "4                    0.968224                 -0.847865   \n",
       "...                       ...                       ...   \n",
       "7347                 0.923148                 -0.791883   \n",
       "7348                 0.918343                 -0.771840   \n",
       "7349                 0.919810                 -0.779133   \n",
       "7350                 0.922323                 -0.785181   \n",
       "7351                 0.918707                 -0.783267   \n",
       "\n",
       "      tGravityAcc-mean()-Y_41  angle(Y,gravityMean)_559  \\\n",
       "0                   -0.140840                  0.179941   \n",
       "1                   -0.141551                  0.180289   \n",
       "2                   -0.142010                  0.180637   \n",
       "3                   -0.143976                  0.181935   \n",
       "4                   -0.148750                  0.185151   \n",
       "...                       ...                       ...   \n",
       "7347                -0.222004                  0.238604   \n",
       "7348                -0.242054                  0.252676   \n",
       "7349                -0.236950                  0.249145   \n",
       "7350                -0.233230                  0.246432   \n",
       "7351                -0.233292                  0.246809   \n",
       "\n",
       "      tGravityAcc-energy()-Y_57  tGravityAccMag-std()_214  \\\n",
       "0                     -0.970905                 -0.950551   \n",
       "1                     -0.970583                 -0.976057   \n",
       "2                     -0.970368                 -0.988020   \n",
       "3                     -0.969400                 -0.986421   \n",
       "4                     -0.967051                 -0.991275   \n",
       "...                         ...                       ...   \n",
       "7347                  -0.918375                 -0.093688   \n",
       "7348                  -0.902880                 -0.148539   \n",
       "7349                  -0.907561                 -0.158701   \n",
       "7350                  -0.910648                 -0.185720   \n",
       "7351                  -0.910579                 -0.229157   \n",
       "\n",
       "      angle(Z,gravityMean)_560  fBodyAccJerk-bandsEnergy()-1,16_403  \\\n",
       "0                    -0.058627                            -0.999900   \n",
       "1                    -0.054317                            -0.999817   \n",
       "2                    -0.049118                            -0.999732   \n",
       "3                    -0.047663                            -0.999798   \n",
       "4                    -0.043892                            -0.999878   \n",
       "...                        ...                                  ...   \n",
       "7347                  0.049819                            -0.839183   \n",
       "7348                  0.050053                            -0.843252   \n",
       "7349                  0.040811                            -0.840560   \n",
       "7350                  0.025339                            -0.822665   \n",
       "7351                  0.036695                            -0.844201   \n",
       "\n",
       "      tGravityAcc-arCoeff()-Z,2_74  tGravityAcc-min()-Z_54  ...  \\\n",
       "0                         0.995675                0.056483  ...   \n",
       "1                         0.834271                0.102764  ...   \n",
       "2                         0.714392                0.102764  ...   \n",
       "3                         0.386373                0.095753  ...   \n",
       "4                         0.239268                0.094059  ...   \n",
       "...                            ...                     ...  ...   \n",
       "7347                      0.802503               -0.071977  ...   \n",
       "7348                      0.721749               -0.068919  ...   \n",
       "7349                      0.835444               -0.068919  ...   \n",
       "7350                      0.858624               -0.040009  ...   \n",
       "7351                      0.861512               -0.047491  ...   \n",
       "\n",
       "      tGravityAcc-entropy()-Y_63  tGravityAccMag-arCoeff()1_222  \\\n",
       "0                           -1.0                      -0.173179   \n",
       "1                           -1.0                       0.081569   \n",
       "2                           -1.0                       0.038049   \n",
       "3                           -1.0                      -0.092856   \n",
       "4                           -1.0                       0.180441   \n",
       "...                          ...                            ...   \n",
       "7347                        -1.0                      -0.617906   \n",
       "7348                        -1.0                      -0.468825   \n",
       "7349                        -1.0                      -0.492911   \n",
       "7350                        -1.0                      -0.526184   \n",
       "7351                        -1.0                      -0.392873   \n",
       "\n",
       "      fBodyGyro-maxInds-Z_450  fBodyAccJerk-bandsEnergy()-1,8_381  \\\n",
       "0                   -1.000000                           -0.999986   \n",
       "1                   -1.000000                           -0.999996   \n",
       "2                   -1.000000                           -0.999994   \n",
       "3                   -0.793103                           -0.999998   \n",
       "4                   -1.000000                           -0.999995   \n",
       "...                       ...                                 ...   \n",
       "7347                -0.793103                           -0.839256   \n",
       "7348                -0.931034                           -0.854278   \n",
       "7349                -0.931034                           -0.815380   \n",
       "7350                -0.793103                           -0.822905   \n",
       "7351                -0.793103                           -0.834215   \n",
       "\n",
       "      tGravityAcc-arCoeff()-Y,2_70  tGravityAcc-arCoeff()-X,2_66  \\\n",
       "0                         0.720862                      0.591146   \n",
       "1                         0.125345                      0.413856   \n",
       "2                         0.270500                      0.027481   \n",
       "3                         0.228310                      0.075427   \n",
       "4                         0.089943                      0.268918   \n",
       "...                            ...                           ...   \n",
       "7347                      0.684225                      0.660477   \n",
       "7348                      0.654116                      0.660353   \n",
       "7349                      0.448116                      0.637481   \n",
       "7350                      0.404027                      0.666204   \n",
       "7351                      0.481701                      0.652535   \n",
       "\n",
       "      fBodyAccJerk-bandsEnergy()-9,16_382  fBodyGyro-bandsEnergy()-1,8_460  \\\n",
       "0                               -0.999980                        -0.999865   \n",
       "1                               -0.999980                        -0.999851   \n",
       "2                               -0.999944                        -0.999680   \n",
       "3                               -0.999965                        -0.999964   \n",
       "4                               -0.999983                        -0.999870   \n",
       "...                                   ...                              ...   \n",
       "7347                            -0.762201                        -0.818556   \n",
       "7348                            -0.759555                        -0.866443   \n",
       "7349                            -0.791132                        -0.801291   \n",
       "7350                            -0.844415                        -0.890578   \n",
       "7351                            -0.843882                        -0.856793   \n",
       "\n",
       "      tBodyGyro-entropy()-X_142  fBodyGyro-meanFreq()-X_451  \n",
       "0                      0.082632                   -0.257549  \n",
       "1                      0.007469                   -0.048167  \n",
       "2                     -0.260943                   -0.216685  \n",
       "3                     -0.930551                    0.216862  \n",
       "4                     -0.628861                   -0.153343  \n",
       "...                         ...                         ...  \n",
       "7347                   0.195518                   -0.434780  \n",
       "7348                   0.535505                   -0.516570  \n",
       "7349                  -0.107501                   -0.289537  \n",
       "7350                  -0.605100                   -0.362980  \n",
       "7351                   0.086563                    0.002108  \n",
       "\n",
       "[7352 rows x 25 columns]"
      ]
     },
     "execution_count": 75,
     "metadata": {},
     "output_type": "execute_result"
    }
   ],
   "source": [
    "rf_feature_sets['RF feature count 80 correlation threshold 0.85']"
   ]
  },
  {
   "cell_type": "code",
   "execution_count": 62,
   "id": "c5782350",
   "metadata": {},
   "outputs": [
    {
     "data": {
      "text/plain": [
       "['RF feature count 80 correlation threshold 0.85',\n",
       " 'RF feature count 80 correlation threshold 0.9',\n",
       " 'RF feature count 80 correlation threshold 0.95',\n",
       " 'RF feature count 100 correlation threshold 0.85',\n",
       " 'RF feature count 100 correlation threshold 0.9',\n",
       " 'RF feature count 100 correlation threshold 0.95',\n",
       " 'RF feature count 120 correlation threshold 0.85',\n",
       " 'RF feature count 120 correlation threshold 0.9',\n",
       " 'RF feature count 120 correlation threshold 0.95']"
      ]
     },
     "execution_count": 62,
     "metadata": {},
     "output_type": "execute_result"
    }
   ],
   "source": [
    "\n",
    "list(rf_feature_sets.keys())"
   ]
  },
  {
   "cell_type": "code",
   "execution_count": null,
   "id": "1e87af42",
   "metadata": {},
   "outputs": [],
   "source": []
  },
  {
   "cell_type": "code",
   "execution_count": 63,
   "id": "207537bc",
   "metadata": {},
   "outputs": [],
   "source": [
    "random_forest_feature_sets = {}\n",
    "for id_string, feature_set in rf_feature_sets.items():\n",
    "    random_forest_feature_sets[id_string] = (feature_set, y_train)"
   ]
  },
  {
   "cell_type": "code",
   "execution_count": 103,
   "id": "12861340",
   "metadata": {},
   "outputs": [
    {
     "data": {
      "text/plain": [
       "['RF feature count 80 correlation threshold 0.85',\n",
       " 'RF feature count 80 correlation threshold 0.9',\n",
       " 'RF feature count 80 correlation threshold 0.95',\n",
       " 'RF feature count 100 correlation threshold 0.85',\n",
       " 'RF feature count 100 correlation threshold 0.9',\n",
       " 'RF feature count 100 correlation threshold 0.95',\n",
       " 'RF feature count 120 correlation threshold 0.85',\n",
       " 'RF feature count 120 correlation threshold 0.9',\n",
       " 'RF feature count 120 correlation threshold 0.95']"
      ]
     },
     "execution_count": 103,
     "metadata": {},
     "output_type": "execute_result"
    }
   ],
   "source": [
    "list(random_forest_feature_sets.keys())"
   ]
  },
  {
   "cell_type": "markdown",
   "id": "4bd51f4e",
   "metadata": {},
   "source": [
    "<h2>XGBoost Feature Importance</h2>"
   ]
  },
  {
   "cell_type": "code",
   "execution_count": 66,
   "id": "eb689ee0",
   "metadata": {},
   "outputs": [
    {
     "data": {
      "text/plain": [
       "XGBClassifier(base_score=None, booster=None, callbacks=None,\n",
       "              colsample_bylevel=None, colsample_bynode=None,\n",
       "              colsample_bytree=None, device=None, early_stopping_rounds=None,\n",
       "              enable_categorical=False, eval_metric='mlogloss',\n",
       "              feature_types=None, gamma=None, grow_policy=None,\n",
       "              importance_type=None, interaction_constraints=None,\n",
       "              learning_rate=None, max_bin=None, max_cat_threshold=None,\n",
       "              max_cat_to_onehot=None, max_delta_step=None, max_depth=None,\n",
       "              max_leaves=None, min_child_weight=None, missing=nan,\n",
       "              monotone_constraints=None, multi_strategy=None, n_estimators=100,\n",
       "              n_jobs=-1, num_parallel_tree=None, objective='multi:softprob', ...)"
      ]
     },
     "execution_count": 66,
     "metadata": {},
     "output_type": "execute_result"
    }
   ],
   "source": [
    "xgb_model.fit(X_train, y_train)"
   ]
  },
  {
   "cell_type": "code",
   "execution_count": 67,
   "id": "a96b6b36",
   "metadata": {},
   "outputs": [],
   "source": [
    "xgb_feature_importances = xgb_model.feature_importances_"
   ]
  },
  {
   "cell_type": "code",
   "execution_count": 72,
   "id": "20eecb61",
   "metadata": {},
   "outputs": [
    {
     "data": {
      "text/html": [
       "<div>\n",
       "<style scoped>\n",
       "    .dataframe tbody tr th:only-of-type {\n",
       "        vertical-align: middle;\n",
       "    }\n",
       "\n",
       "    .dataframe tbody tr th {\n",
       "        vertical-align: top;\n",
       "    }\n",
       "\n",
       "    .dataframe thead th {\n",
       "        text-align: right;\n",
       "    }\n",
       "</style>\n",
       "<table border=\"1\" class=\"dataframe\">\n",
       "  <thead>\n",
       "    <tr style=\"text-align: right;\">\n",
       "      <th></th>\n",
       "      <th>feature</th>\n",
       "      <th>importance</th>\n",
       "    </tr>\n",
       "  </thead>\n",
       "  <tbody>\n",
       "    <tr>\n",
       "      <th>330</th>\n",
       "      <td>fBodyAcc-bandsEnergy()-1,8_330</td>\n",
       "      <td>0.072055</td>\n",
       "    </tr>\n",
       "    <tr>\n",
       "      <th>52</th>\n",
       "      <td>tGravityAcc-min()-X_52</td>\n",
       "      <td>0.063094</td>\n",
       "    </tr>\n",
       "    <tr>\n",
       "      <th>296</th>\n",
       "      <td>fBodyAcc-skewness()-X_296</td>\n",
       "      <td>0.046372</td>\n",
       "    </tr>\n",
       "    <tr>\n",
       "      <th>410</th>\n",
       "      <td>fBodyAccJerk-bandsEnergy()-9,16_410</td>\n",
       "      <td>0.039299</td>\n",
       "    </tr>\n",
       "    <tr>\n",
       "      <th>201</th>\n",
       "      <td>tBodyAccMag-std()_201</td>\n",
       "      <td>0.037172</td>\n",
       "    </tr>\n",
       "  </tbody>\n",
       "</table>\n",
       "</div>"
      ],
      "text/plain": [
       "                                 feature  importance\n",
       "330       fBodyAcc-bandsEnergy()-1,8_330    0.072055\n",
       "52                tGravityAcc-min()-X_52    0.063094\n",
       "296            fBodyAcc-skewness()-X_296    0.046372\n",
       "410  fBodyAccJerk-bandsEnergy()-9,16_410    0.039299\n",
       "201                tBodyAccMag-std()_201    0.037172"
      ]
     },
     "execution_count": 72,
     "metadata": {},
     "output_type": "execute_result"
    }
   ],
   "source": [
    "xgb_importance_df = pd.DataFrame({\n",
    "    \"feature\" : feature_names,\n",
    "    \"importance\" : xgb_feature_importances\n",
    "}).sort_values(\"importance\", ascending=False)\n",
    "xgb_importance_df.head()"
   ]
  },
  {
   "cell_type": "code",
   "execution_count": null,
   "id": "5b84c256",
   "metadata": {},
   "outputs": [],
   "source": []
  },
  {
   "cell_type": "code",
   "execution_count": 80,
   "id": "50fd38d6",
   "metadata": {},
   "outputs": [
    {
     "name": "stdout",
     "output_type": "stream",
     "text": [
      "XGB feature count 80 correlation threshold 0.85 reduced to 37 features\n",
      "XGB feature count 80 correlation threshold 0.9 reduced to 45 features\n",
      "XGB feature count 80 correlation threshold 0.95 reduced to 53 features\n",
      "XGB feature count 100 correlation threshold 0.85 reduced to 46 features\n",
      "XGB feature count 100 correlation threshold 0.9 reduced to 53 features\n",
      "XGB feature count 100 correlation threshold 0.95 reduced to 65 features\n",
      "XGB feature count 120 correlation threshold 0.85 reduced to 54 features\n",
      "XGB feature count 120 correlation threshold 0.9 reduced to 61 features\n",
      "XGB feature count 120 correlation threshold 0.95 reduced to 75 features\n"
     ]
    }
   ],
   "source": [
    "xgb_feature_sets = {}\n",
    "\n",
    "for count in feature_counts:\n",
    "    for threshold in correlation_thresholds:\n",
    "        feature_set = create_feature_set(X_train, xgb_importance_df, count, threshold)\n",
    "        identifying_string = \"XGB feature count \" + str(count) + \" correlation threshold \" + str(threshold)\n",
    "        xgb_feature_sets[identifying_string] = feature_set\n",
    "        print(f\"{identifying_string} reduced to {feature_set.shape[1]} features\")"
   ]
  },
  {
   "cell_type": "code",
   "execution_count": 83,
   "id": "1b8db87f",
   "metadata": {},
   "outputs": [],
   "source": [
    "xgboost_feature_sets = {}\n",
    "for id_string, feature_set in xgb_feature_sets.items():\n",
    "    xgboost_feature_sets[id_string] = (feature_set, y_train)"
   ]
  },
  {
   "cell_type": "markdown",
   "id": "01ec8480",
   "metadata": {},
   "source": [
    "<h2> Importing other Feature Sets</h2>"
   ]
  },
  {
   "cell_type": "code",
   "execution_count": 85,
   "id": "5becf40d",
   "metadata": {},
   "outputs": [],
   "source": [
    "X_train_anova_60 = pd.read_csv(\"../Processed Data/ANOVA hybrid set/X_train_anova_filtered_60.csv\")\n",
    "X_test_anova_60 = pd.read_csv(\"../Processed Data/ANOVA hybrid set/X_test_anova_filtered_60.csv\")"
   ]
  },
  {
   "cell_type": "code",
   "execution_count": 86,
   "id": "91dda31d",
   "metadata": {},
   "outputs": [],
   "source": [
    "X_train_mean_std = pd.read_csv(\"../Processed Data/Mean Features/feature_reduced_X_train.csv\")\n",
    "X_test_mean_std = pd.read_csv(\"../Processed Data/Mean Features/feature_reduced_X_test.csv\")"
   ]
  },
  {
   "cell_type": "code",
   "execution_count": 92,
   "id": "5fb9d153",
   "metadata": {},
   "outputs": [],
   "source": [
    "other_feature_sets = {\n",
    "    \"anova_60\" : (X_train_anova_60, y_train),\n",
    "    \"mean_std\" : (X_train_mean_std, y_train)\n",
    "}\n",
    "\n",
    "feature_sets.update(other_feature_sets)"
   ]
  },
  {
   "cell_type": "code",
   "execution_count": 93,
   "id": "52d7d9c7",
   "metadata": {},
   "outputs": [
    {
     "data": {
      "text/plain": [
       "['All features', 'anova_60', 'mean_std']"
      ]
     },
     "execution_count": 93,
     "metadata": {},
     "output_type": "execute_result"
    }
   ],
   "source": [
    "list(feature_sets.keys())"
   ]
  },
  {
   "cell_type": "code",
   "execution_count": null,
   "id": "cca782ee",
   "metadata": {},
   "outputs": [],
   "source": []
  },
  {
   "cell_type": "code",
   "execution_count": 94,
   "id": "1071036b",
   "metadata": {},
   "outputs": [
    {
     "name": "stdout",
     "output_type": "stream",
     "text": [
      "\n",
      "Score for Random Forest and the feature set RF feature count 80 correlation threshold 0.85\n",
      "\n",
      "Mean accuracy across 5 folds is 0.978\n",
      "Standard Deviation in accuracy across 5 folds is 0.003\n",
      "Mean f1_macro across 5 folds is 0.978\n",
      "Standard Deviation in f1_macro across 5 folds is 0.003\n",
      "\n",
      "Score for Random Forest and the feature set RF feature count 80 correlation threshold 0.9\n",
      "\n",
      "Mean accuracy across 5 folds is 0.978\n",
      "Standard Deviation in accuracy across 5 folds is 0.003\n",
      "Mean f1_macro across 5 folds is 0.978\n",
      "Standard Deviation in f1_macro across 5 folds is 0.003\n",
      "\n",
      "Score for Random Forest and the feature set RF feature count 80 correlation threshold 0.95\n",
      "\n",
      "Mean accuracy across 5 folds is 0.980\n",
      "Standard Deviation in accuracy across 5 folds is 0.003\n",
      "Mean f1_macro across 5 folds is 0.980\n",
      "Standard Deviation in f1_macro across 5 folds is 0.003\n",
      "\n",
      "Score for Random Forest and the feature set RF feature count 100 correlation threshold 0.85\n",
      "\n",
      "Mean accuracy across 5 folds is 0.979\n",
      "Standard Deviation in accuracy across 5 folds is 0.005\n",
      "Mean f1_macro across 5 folds is 0.979\n",
      "Standard Deviation in f1_macro across 5 folds is 0.005\n",
      "\n",
      "Score for Random Forest and the feature set RF feature count 100 correlation threshold 0.9\n",
      "\n",
      "Mean accuracy across 5 folds is 0.980\n",
      "Standard Deviation in accuracy across 5 folds is 0.005\n",
      "Mean f1_macro across 5 folds is 0.981\n",
      "Standard Deviation in f1_macro across 5 folds is 0.005\n",
      "\n",
      "Score for Random Forest and the feature set RF feature count 100 correlation threshold 0.95\n",
      "\n",
      "Mean accuracy across 5 folds is 0.980\n",
      "Standard Deviation in accuracy across 5 folds is 0.002\n",
      "Mean f1_macro across 5 folds is 0.980\n",
      "Standard Deviation in f1_macro across 5 folds is 0.003\n",
      "\n",
      "Score for Random Forest and the feature set RF feature count 120 correlation threshold 0.85\n",
      "\n",
      "Mean accuracy across 5 folds is 0.979\n",
      "Standard Deviation in accuracy across 5 folds is 0.004\n",
      "Mean f1_macro across 5 folds is 0.980\n",
      "Standard Deviation in f1_macro across 5 folds is 0.004\n",
      "\n",
      "Score for Random Forest and the feature set RF feature count 120 correlation threshold 0.9\n",
      "\n",
      "Mean accuracy across 5 folds is 0.980\n",
      "Standard Deviation in accuracy across 5 folds is 0.003\n",
      "Mean f1_macro across 5 folds is 0.981\n",
      "Standard Deviation in f1_macro across 5 folds is 0.003\n",
      "\n",
      "Score for Random Forest and the feature set RF feature count 120 correlation threshold 0.95\n",
      "\n",
      "Mean accuracy across 5 folds is 0.981\n",
      "Standard Deviation in accuracy across 5 folds is 0.002\n",
      "Mean f1_macro across 5 folds is 0.981\n",
      "Standard Deviation in f1_macro across 5 folds is 0.003\n"
     ]
    }
   ],
   "source": [
    "rf_scores = calculate_cross_validation_scores({\"Random Forest\" : rf_model}, random_forest_feature_sets)"
   ]
  },
  {
   "cell_type": "code",
   "execution_count": 95,
   "id": "c8723809",
   "metadata": {},
   "outputs": [
    {
     "name": "stdout",
     "output_type": "stream",
     "text": [
      "Efficency per feature for Random Forest RF feature count 80 correlation threshold 0.85 is 38.29\n",
      "Efficency per feature for Random Forest RF feature count 80 correlation threshold 0.9 is 36.78\n",
      "Efficency per feature for Random Forest RF feature count 80 correlation threshold 0.95 is 36.93\n",
      "Efficency per feature for Random Forest RF feature count 100 correlation threshold 0.85 is 28.18\n",
      "Efficency per feature for Random Forest RF feature count 100 correlation threshold 0.9 is 26.71\n",
      "Efficency per feature for Random Forest RF feature count 100 correlation threshold 0.95 is 26.67\n",
      "Efficency per feature for Random Forest RF feature count 120 correlation threshold 0.85 is 25.93\n",
      "Efficency per feature for Random Forest RF feature count 120 correlation threshold 0.9 is 24.66\n",
      "Efficency per feature for Random Forest RF feature count 120 correlation threshold 0.95 is 24.67\n"
     ]
    }
   ],
   "source": [
    "rf_efficiencies = evaluate_model_efficiency(rf_scores, random_forest_feature_sets)"
   ]
  },
  {
   "cell_type": "code",
   "execution_count": 96,
   "id": "e014be02",
   "metadata": {},
   "outputs": [],
   "source": [
    "best_rf_experiment = max(rf_efficiencies, key=rf_efficiencies.get)"
   ]
  },
  {
   "cell_type": "code",
   "execution_count": 129,
   "id": "5f615e95",
   "metadata": {},
   "outputs": [],
   "source": [
    "most_efficent_rf_model_id = best_rf_experiment[14:]\n",
    "most_efficent_rf_model_id\n",
    "X_train_efficent_rf = random_forest_feature_sets[most_efficent_rf_model_id]"
   ]
  },
  {
   "cell_type": "code",
   "execution_count": 132,
   "id": "dbd4fe40",
   "metadata": {},
   "outputs": [
    {
     "data": {
      "text/plain": [
       "(      tGravityAcc-mean()-X_40  angle(X,gravityMean)_558  \\\n",
       " 0                    0.963396                 -0.841247   \n",
       " 1                    0.966561                 -0.844788   \n",
       " 2                    0.966878                 -0.848933   \n",
       " 3                    0.967615                 -0.848649   \n",
       " 4                    0.968224                 -0.847865   \n",
       " ...                       ...                       ...   \n",
       " 7347                 0.923148                 -0.791883   \n",
       " 7348                 0.918343                 -0.771840   \n",
       " 7349                 0.919810                 -0.779133   \n",
       " 7350                 0.922323                 -0.785181   \n",
       " 7351                 0.918707                 -0.783267   \n",
       " \n",
       "       tGravityAcc-mean()-Y_41  angle(Y,gravityMean)_559  \\\n",
       " 0                   -0.140840                  0.179941   \n",
       " 1                   -0.141551                  0.180289   \n",
       " 2                   -0.142010                  0.180637   \n",
       " 3                   -0.143976                  0.181935   \n",
       " 4                   -0.148750                  0.185151   \n",
       " ...                       ...                       ...   \n",
       " 7347                -0.222004                  0.238604   \n",
       " 7348                -0.242054                  0.252676   \n",
       " 7349                -0.236950                  0.249145   \n",
       " 7350                -0.233230                  0.246432   \n",
       " 7351                -0.233292                  0.246809   \n",
       " \n",
       "       tGravityAcc-energy()-Y_57  tGravityAccMag-std()_214  \\\n",
       " 0                     -0.970905                 -0.950551   \n",
       " 1                     -0.970583                 -0.976057   \n",
       " 2                     -0.970368                 -0.988020   \n",
       " 3                     -0.969400                 -0.986421   \n",
       " 4                     -0.967051                 -0.991275   \n",
       " ...                         ...                       ...   \n",
       " 7347                  -0.918375                 -0.093688   \n",
       " 7348                  -0.902880                 -0.148539   \n",
       " 7349                  -0.907561                 -0.158701   \n",
       " 7350                  -0.910648                 -0.185720   \n",
       " 7351                  -0.910579                 -0.229157   \n",
       " \n",
       "       angle(Z,gravityMean)_560  fBodyAccJerk-bandsEnergy()-1,16_403  \\\n",
       " 0                    -0.058627                            -0.999900   \n",
       " 1                    -0.054317                            -0.999817   \n",
       " 2                    -0.049118                            -0.999732   \n",
       " 3                    -0.047663                            -0.999798   \n",
       " 4                    -0.043892                            -0.999878   \n",
       " ...                        ...                                  ...   \n",
       " 7347                  0.049819                            -0.839183   \n",
       " 7348                  0.050053                            -0.843252   \n",
       " 7349                  0.040811                            -0.840560   \n",
       " 7350                  0.025339                            -0.822665   \n",
       " 7351                  0.036695                            -0.844201   \n",
       " \n",
       "       tGravityAcc-arCoeff()-Z,2_74  tGravityAcc-min()-Z_54  ...  \\\n",
       " 0                         0.995675                0.056483  ...   \n",
       " 1                         0.834271                0.102764  ...   \n",
       " 2                         0.714392                0.102764  ...   \n",
       " 3                         0.386373                0.095753  ...   \n",
       " 4                         0.239268                0.094059  ...   \n",
       " ...                            ...                     ...  ...   \n",
       " 7347                      0.802503               -0.071977  ...   \n",
       " 7348                      0.721749               -0.068919  ...   \n",
       " 7349                      0.835444               -0.068919  ...   \n",
       " 7350                      0.858624               -0.040009  ...   \n",
       " 7351                      0.861512               -0.047491  ...   \n",
       " \n",
       "       tGravityAcc-entropy()-Y_63  tGravityAccMag-arCoeff()1_222  \\\n",
       " 0                           -1.0                      -0.173179   \n",
       " 1                           -1.0                       0.081569   \n",
       " 2                           -1.0                       0.038049   \n",
       " 3                           -1.0                      -0.092856   \n",
       " 4                           -1.0                       0.180441   \n",
       " ...                          ...                            ...   \n",
       " 7347                        -1.0                      -0.617906   \n",
       " 7348                        -1.0                      -0.468825   \n",
       " 7349                        -1.0                      -0.492911   \n",
       " 7350                        -1.0                      -0.526184   \n",
       " 7351                        -1.0                      -0.392873   \n",
       " \n",
       "       fBodyGyro-maxInds-Z_450  fBodyAccJerk-bandsEnergy()-1,8_381  \\\n",
       " 0                   -1.000000                           -0.999986   \n",
       " 1                   -1.000000                           -0.999996   \n",
       " 2                   -1.000000                           -0.999994   \n",
       " 3                   -0.793103                           -0.999998   \n",
       " 4                   -1.000000                           -0.999995   \n",
       " ...                       ...                                 ...   \n",
       " 7347                -0.793103                           -0.839256   \n",
       " 7348                -0.931034                           -0.854278   \n",
       " 7349                -0.931034                           -0.815380   \n",
       " 7350                -0.793103                           -0.822905   \n",
       " 7351                -0.793103                           -0.834215   \n",
       " \n",
       "       tGravityAcc-arCoeff()-Y,2_70  tGravityAcc-arCoeff()-X,2_66  \\\n",
       " 0                         0.720862                      0.591146   \n",
       " 1                         0.125345                      0.413856   \n",
       " 2                         0.270500                      0.027481   \n",
       " 3                         0.228310                      0.075427   \n",
       " 4                         0.089943                      0.268918   \n",
       " ...                            ...                           ...   \n",
       " 7347                      0.684225                      0.660477   \n",
       " 7348                      0.654116                      0.660353   \n",
       " 7349                      0.448116                      0.637481   \n",
       " 7350                      0.404027                      0.666204   \n",
       " 7351                      0.481701                      0.652535   \n",
       " \n",
       "       fBodyAccJerk-bandsEnergy()-9,16_382  fBodyGyro-bandsEnergy()-1,8_460  \\\n",
       " 0                               -0.999980                        -0.999865   \n",
       " 1                               -0.999980                        -0.999851   \n",
       " 2                               -0.999944                        -0.999680   \n",
       " 3                               -0.999965                        -0.999964   \n",
       " 4                               -0.999983                        -0.999870   \n",
       " ...                                   ...                              ...   \n",
       " 7347                            -0.762201                        -0.818556   \n",
       " 7348                            -0.759555                        -0.866443   \n",
       " 7349                            -0.791132                        -0.801291   \n",
       " 7350                            -0.844415                        -0.890578   \n",
       " 7351                            -0.843882                        -0.856793   \n",
       " \n",
       "       tBodyGyro-entropy()-X_142  fBodyGyro-meanFreq()-X_451  \n",
       " 0                      0.082632                   -0.257549  \n",
       " 1                      0.007469                   -0.048167  \n",
       " 2                     -0.260943                   -0.216685  \n",
       " 3                     -0.930551                    0.216862  \n",
       " 4                     -0.628861                   -0.153343  \n",
       " ...                         ...                         ...  \n",
       " 7347                   0.195518                   -0.434780  \n",
       " 7348                   0.535505                   -0.516570  \n",
       " 7349                  -0.107501                   -0.289537  \n",
       " 7350                  -0.605100                   -0.362980  \n",
       " 7351                   0.086563                    0.002108  \n",
       " \n",
       " [7352 rows x 25 columns],\n",
       " 0       4\n",
       " 1       4\n",
       " 2       4\n",
       " 3       4\n",
       " 4       4\n",
       "        ..\n",
       " 7347    1\n",
       " 7348    1\n",
       " 7349    1\n",
       " 7350    1\n",
       " 7351    1\n",
       " Name: activity_code, Length: 7352, dtype: int64)"
      ]
     },
     "execution_count": 132,
     "metadata": {},
     "output_type": "execute_result"
    }
   ],
   "source": [
    "X_train_efficent_rf"
   ]
  },
  {
   "cell_type": "code",
   "execution_count": 118,
   "id": "d92efe60",
   "metadata": {},
   "outputs": [
    {
     "name": "stdout",
     "output_type": "stream",
     "text": [
      "The most efficent model is Random Forest RF feature count 80 correlation threshold 0.85 with 25 features\n"
     ]
    }
   ],
   "source": [
    "print(f\"The most efficent model is {best_rf_experiment} with {random_forest_feature_sets[most_efficent_rf_model_id][0].shape[1]} features\")"
   ]
  },
  {
   "cell_type": "markdown",
   "id": "2c008200",
   "metadata": {},
   "source": [
    "<h3>But with only 25 features, the model might not be able to capture all the patterns and perform bad on the testing set. So let us also consider one more set with higher accuracy, so we can come to a final decision when we do our final testing.</h3>"
   ]
  },
  {
   "cell_type": "markdown",
   "id": "5e9d135e",
   "metadata": {},
   "source": [
    "Looks like our best performing model is RF feature count 120 correlation threshold 0.95, so this will be our other feature set being considered for final testing."
   ]
  },
  {
   "cell_type": "code",
   "execution_count": 110,
   "id": "f7ff2977",
   "metadata": {},
   "outputs": [
    {
     "name": "stdout",
     "output_type": "stream",
     "text": [
      "The most accurate model is Random ForestRF feature count 120 correlation threshold 0.95 with 47 features\n"
     ]
    }
   ],
   "source": [
    "most_accurate_rf_model_id = \"RF feature count 120 correlation threshold 0.95\"\n",
    "print(f\"The most accurate model is Random Forest{most_accurate_rf_model_id} with {random_forest_feature_sets[most_accurate_rf_model_id][0].shape[1]} features\")"
   ]
  },
  {
   "cell_type": "markdown",
   "id": "e3be7444",
   "metadata": {},
   "source": [
    "<h2>Finalizing XGBoost feature sets</h2>"
   ]
  },
  {
   "cell_type": "code",
   "execution_count": 98,
   "id": "03dcab8f",
   "metadata": {},
   "outputs": [
    {
     "name": "stdout",
     "output_type": "stream",
     "text": [
      "\n",
      "Score for XGBoost and the feature set XGB feature count 80 correlation threshold 0.85\n",
      "\n",
      "Mean accuracy across 5 folds is 0.988\n",
      "Standard Deviation in accuracy across 5 folds is 0.001\n",
      "Mean f1_macro across 5 folds is 0.988\n",
      "Standard Deviation in f1_macro across 5 folds is 0.001\n",
      "\n",
      "Score for XGBoost and the feature set XGB feature count 80 correlation threshold 0.9\n",
      "\n",
      "Mean accuracy across 5 folds is 0.989\n",
      "Standard Deviation in accuracy across 5 folds is 0.002\n",
      "Mean f1_macro across 5 folds is 0.989\n",
      "Standard Deviation in f1_macro across 5 folds is 0.002\n",
      "\n",
      "Score for XGBoost and the feature set XGB feature count 80 correlation threshold 0.95\n",
      "\n",
      "Mean accuracy across 5 folds is 0.990\n",
      "Standard Deviation in accuracy across 5 folds is 0.001\n",
      "Mean f1_macro across 5 folds is 0.990\n",
      "Standard Deviation in f1_macro across 5 folds is 0.001\n",
      "\n",
      "Score for XGBoost and the feature set XGB feature count 100 correlation threshold 0.85\n",
      "\n",
      "Mean accuracy across 5 folds is 0.987\n",
      "Standard Deviation in accuracy across 5 folds is 0.001\n",
      "Mean f1_macro across 5 folds is 0.987\n",
      "Standard Deviation in f1_macro across 5 folds is 0.001\n",
      "\n",
      "Score for XGBoost and the feature set XGB feature count 100 correlation threshold 0.9\n",
      "\n",
      "Mean accuracy across 5 folds is 0.987\n",
      "Standard Deviation in accuracy across 5 folds is 0.002\n",
      "Mean f1_macro across 5 folds is 0.987\n",
      "Standard Deviation in f1_macro across 5 folds is 0.002\n",
      "\n",
      "Score for XGBoost and the feature set XGB feature count 100 correlation threshold 0.95\n",
      "\n",
      "Mean accuracy across 5 folds is 0.989\n",
      "Standard Deviation in accuracy across 5 folds is 0.001\n",
      "Mean f1_macro across 5 folds is 0.989\n",
      "Standard Deviation in f1_macro across 5 folds is 0.001\n",
      "\n",
      "Score for XGBoost and the feature set XGB feature count 120 correlation threshold 0.85\n",
      "\n",
      "Mean accuracy across 5 folds is 0.990\n",
      "Standard Deviation in accuracy across 5 folds is 0.001\n",
      "Mean f1_macro across 5 folds is 0.990\n",
      "Standard Deviation in f1_macro across 5 folds is 0.001\n",
      "\n",
      "Score for XGBoost and the feature set XGB feature count 120 correlation threshold 0.9\n",
      "\n",
      "Mean accuracy across 5 folds is 0.990\n",
      "Standard Deviation in accuracy across 5 folds is 0.001\n",
      "Mean f1_macro across 5 folds is 0.990\n",
      "Standard Deviation in f1_macro across 5 folds is 0.002\n",
      "\n",
      "Score for XGBoost and the feature set XGB feature count 120 correlation threshold 0.95\n",
      "\n",
      "Mean accuracy across 5 folds is 0.990\n",
      "Standard Deviation in accuracy across 5 folds is 0.002\n",
      "Mean f1_macro across 5 folds is 0.990\n",
      "Standard Deviation in f1_macro across 5 folds is 0.002\n"
     ]
    }
   ],
   "source": [
    "xgb_scores = calculate_cross_validation_scores({\"XGBoost\" : xgb_model}, xgboost_feature_sets)"
   ]
  },
  {
   "cell_type": "code",
   "execution_count": 100,
   "id": "ea17c76a",
   "metadata": {},
   "outputs": [
    {
     "name": "stdout",
     "output_type": "stream",
     "text": [
      "Efficency per feature for XGBoost XGB feature count 80 correlation threshold 0.85 is 26.38\n",
      "Efficency per feature for XGBoost XGB feature count 80 correlation threshold 0.9 is 21.72\n",
      "Efficency per feature for XGBoost XGB feature count 80 correlation threshold 0.95 is 21.79\n",
      "Efficency per feature for XGBoost XGB feature count 100 correlation threshold 0.85 is 21.19\n",
      "Efficency per feature for XGBoost XGB feature count 100 correlation threshold 0.9 is 18.39\n",
      "Efficency per feature for XGBoost XGB feature count 100 correlation threshold 0.95 is 18.46\n",
      "Efficency per feature for XGBoost XGB feature count 120 correlation threshold 0.85 is 18.16\n",
      "Efficency per feature for XGBoost XGB feature count 120 correlation threshold 0.9 is 16.08\n",
      "Efficency per feature for XGBoost XGB feature count 120 correlation threshold 0.95 is 16.08\n"
     ]
    }
   ],
   "source": [
    "xgb_efficiencies = evaluate_model_efficiency(xgb_scores, xgboost_feature_sets)"
   ]
  },
  {
   "cell_type": "code",
   "execution_count": 112,
   "id": "f0bc7762",
   "metadata": {},
   "outputs": [
    {
     "data": {
      "text/plain": [
       "'XGBoost XGB feature count 80 correlation threshold 0.85'"
      ]
     },
     "execution_count": 112,
     "metadata": {},
     "output_type": "execute_result"
    }
   ],
   "source": [
    "best_xgb_experiment = max(xgb_efficiencies, key=xgb_efficiencies.get)\n",
    "best_xgb_experiment"
   ]
  },
  {
   "cell_type": "code",
   "execution_count": 115,
   "id": "ddcd7fa2",
   "metadata": {},
   "outputs": [
    {
     "data": {
      "text/plain": [
       "'XGB feature count 80 correlation threshold 0.85'"
      ]
     },
     "execution_count": 115,
     "metadata": {},
     "output_type": "execute_result"
    }
   ],
   "source": [
    "most_efficent_xgb_model_id = best_xgb_experiment[8:]\n",
    "most_efficent_xgb_model_id\n"
   ]
  },
  {
   "cell_type": "code",
   "execution_count": 119,
   "id": "bba5b59a",
   "metadata": {},
   "outputs": [
    {
     "name": "stdout",
     "output_type": "stream",
     "text": [
      "The most efficent model is XGBoost XGB feature count 80 correlation threshold 0.85 with 37 features\n"
     ]
    }
   ],
   "source": [
    "print(f\"The most efficent model is {best_xgb_experiment} with {xgboost_feature_sets[most_efficent_xgb_model_id][0].shape[1]} features\")"
   ]
  },
  {
   "cell_type": "markdown",
   "id": "1aced50f",
   "metadata": {},
   "source": [
    "If we look at the results the best accuracy is 99%, which is given 4 different feature sets. So we pick the one with the least number of features, since it can be noted that the additional features did not do any good to the model's accuracy."
   ]
  },
  {
   "cell_type": "markdown",
   "id": "55607f5c",
   "metadata": {},
   "source": [
    "So we pick Feature count 80 threshold 0.85 for the most accurate one."
   ]
  },
  {
   "cell_type": "code",
   "execution_count": 125,
   "id": "6c4fec04",
   "metadata": {},
   "outputs": [],
   "source": [
    "most_accurate_xgb_model_id = 'XGB feature count 80 correlation threshold 0.95'"
   ]
  },
  {
   "cell_type": "code",
   "execution_count": 126,
   "id": "d424e7ca",
   "metadata": {},
   "outputs": [
    {
     "name": "stdout",
     "output_type": "stream",
     "text": [
      "The most efficent model is XGB feature count 80 correlation threshold 0.95 with 53 features\n"
     ]
    }
   ],
   "source": [
    "print(f\"The most efficent model is {most_accurate_xgb_model_id} with {xgboost_feature_sets[most_accurate_xgb_model_id][0].shape[1]} features\")"
   ]
  },
  {
   "cell_type": "markdown",
   "id": "db80536b",
   "metadata": {},
   "source": [
    "<h3>If we look at both Random Forest and XGBoost models, the feature set with least number of features is often the most efficent one. This is obviously biased towards the feature set with least features if we look at how we are evaluating our model efficency in our evaluate_model_efficiency function.</h3> "
   ]
  },
  {
   "cell_type": "markdown",
   "id": "349381b0",
   "metadata": {},
   "source": [
    "So this is why selecting another feature set that is highly accurate is also neccesary, so that while testing we do not end up with models that does not perform good."
   ]
  },
  {
   "cell_type": "markdown",
   "id": "0fcce11a",
   "metadata": {},
   "source": [
    "<h2>Baseline Establishment</h2>"
   ]
  },
  {
   "cell_type": "code",
   "execution_count": 134,
   "id": "4b93fc09",
   "metadata": {},
   "outputs": [],
   "source": [
    "final_feature_sets = {\n",
    "    \"All Features\" : (X_train, y_train),\n",
    "    \"Mean std features\" : (X_train_mean_std, y_train),\n",
    "    \"Anova features\" : (X_train_anova_60, y_train),\n",
    "    \"Most efficent Random Forest features\" : random_forest_feature_sets[most_efficent_rf_model_id],\n",
    "    \"Most accurate Random Forest features\" : random_forest_feature_sets[most_accurate_rf_model_id],\n",
    "    \"Most efficent XGBoost features\" : xgboost_feature_sets[most_efficent_xgb_model_id],\n",
    "    \"Most accurate XGBoost features\" : xgboost_feature_sets[most_accurate_xgb_model_id]\n",
    "}"
   ]
  },
  {
   "cell_type": "code",
   "execution_count": 135,
   "id": "c4df5057",
   "metadata": {},
   "outputs": [
    {
     "name": "stdout",
     "output_type": "stream",
     "text": [
      "\n",
      "Score for Random Forest and the feature set All Features\n",
      "\n",
      "Mean accuracy across 5 folds is 0.982\n",
      "Standard Deviation in accuracy across 5 folds is 0.002\n",
      "Mean f1_macro across 5 folds is 0.982\n",
      "Standard Deviation in f1_macro across 5 folds is 0.002\n",
      "\n",
      "Score for Random Forest and the feature set Mean std features\n",
      "\n",
      "Mean accuracy across 5 folds is 0.978\n",
      "Standard Deviation in accuracy across 5 folds is 0.002\n",
      "Mean f1_macro across 5 folds is 0.978\n",
      "Standard Deviation in f1_macro across 5 folds is 0.002\n",
      "\n",
      "Score for Random Forest and the feature set Anova features\n",
      "\n",
      "Mean accuracy across 5 folds is 0.984\n",
      "Standard Deviation in accuracy across 5 folds is 0.002\n",
      "Mean f1_macro across 5 folds is 0.984\n",
      "Standard Deviation in f1_macro across 5 folds is 0.002\n",
      "\n",
      "Score for Random Forest and the feature set Most efficent Random Forest features\n",
      "\n",
      "Mean accuracy across 5 folds is 0.978\n",
      "Standard Deviation in accuracy across 5 folds is 0.003\n",
      "Mean f1_macro across 5 folds is 0.978\n",
      "Standard Deviation in f1_macro across 5 folds is 0.003\n",
      "\n",
      "Score for Random Forest and the feature set Most accurate Random Forest features\n",
      "\n",
      "Mean accuracy across 5 folds is 0.981\n",
      "Standard Deviation in accuracy across 5 folds is 0.002\n",
      "Mean f1_macro across 5 folds is 0.981\n",
      "Standard Deviation in f1_macro across 5 folds is 0.003\n",
      "\n",
      "Score for Random Forest and the feature set Most efficent XGBoost features\n",
      "\n",
      "Mean accuracy across 5 folds is 0.978\n",
      "Standard Deviation in accuracy across 5 folds is 0.002\n",
      "Mean f1_macro across 5 folds is 0.979\n",
      "Standard Deviation in f1_macro across 5 folds is 0.002\n",
      "\n",
      "Score for Random Forest and the feature set Most accurate XGBoost features\n",
      "\n",
      "Mean accuracy across 5 folds is 0.981\n",
      "Standard Deviation in accuracy across 5 folds is 0.001\n",
      "Mean f1_macro across 5 folds is 0.981\n",
      "Standard Deviation in f1_macro across 5 folds is 0.001\n",
      "\n",
      "Score for XGBoost and the feature set All Features\n",
      "\n",
      "Mean accuracy across 5 folds is 0.991\n",
      "Standard Deviation in accuracy across 5 folds is 0.002\n",
      "Mean f1_macro across 5 folds is 0.992\n",
      "Standard Deviation in f1_macro across 5 folds is 0.002\n",
      "\n",
      "Score for XGBoost and the feature set Mean std features\n",
      "\n",
      "Mean accuracy across 5 folds is 0.987\n",
      "Standard Deviation in accuracy across 5 folds is 0.001\n",
      "Mean f1_macro across 5 folds is 0.987\n",
      "Standard Deviation in f1_macro across 5 folds is 0.001\n",
      "\n",
      "Score for XGBoost and the feature set Anova features\n",
      "\n",
      "Mean accuracy across 5 folds is 0.988\n",
      "Standard Deviation in accuracy across 5 folds is 0.002\n",
      "Mean f1_macro across 5 folds is 0.989\n",
      "Standard Deviation in f1_macro across 5 folds is 0.002\n",
      "\n",
      "Score for XGBoost and the feature set Most efficent Random Forest features\n",
      "\n",
      "Mean accuracy across 5 folds is 0.984\n",
      "Standard Deviation in accuracy across 5 folds is 0.002\n",
      "Mean f1_macro across 5 folds is 0.984\n",
      "Standard Deviation in f1_macro across 5 folds is 0.002\n",
      "\n",
      "Score for XGBoost and the feature set Most accurate Random Forest features\n",
      "\n",
      "Mean accuracy across 5 folds is 0.987\n",
      "Standard Deviation in accuracy across 5 folds is 0.004\n",
      "Mean f1_macro across 5 folds is 0.988\n",
      "Standard Deviation in f1_macro across 5 folds is 0.004\n",
      "\n",
      "Score for XGBoost and the feature set Most efficent XGBoost features\n",
      "\n",
      "Mean accuracy across 5 folds is 0.988\n",
      "Standard Deviation in accuracy across 5 folds is 0.001\n",
      "Mean f1_macro across 5 folds is 0.988\n",
      "Standard Deviation in f1_macro across 5 folds is 0.001\n",
      "\n",
      "Score for XGBoost and the feature set Most accurate XGBoost features\n",
      "\n",
      "Mean accuracy across 5 folds is 0.990\n",
      "Standard Deviation in accuracy across 5 folds is 0.001\n",
      "Mean f1_macro across 5 folds is 0.990\n",
      "Standard Deviation in f1_macro across 5 folds is 0.001\n",
      "Efficency per feature for Random Forest All Features is 1.72\n",
      "Efficency per feature for Random Forest Mean std features is 14.49\n",
      "Efficency per feature for Random Forest Anova features is 8.28\n",
      "Efficency per feature for Random Forest Most efficent Random Forest features is 38.29\n",
      "Efficency per feature for Random Forest Most accurate Random Forest features is 20.47\n",
      "Efficency per feature for Random Forest Most efficent XGBoost features is 25.88\n",
      "Efficency per feature for Random Forest Most accurate XGBoost features is 18.16\n",
      "Efficency per feature for XGBoost All Features is 1.75\n",
      "Efficency per feature for XGBoost Mean std features is 14.76\n",
      "Efficency per feature for XGBoost Anova features is 8.35\n",
      "Efficency per feature for XGBoost Most efficent Random Forest features is 38.75\n",
      "Efficency per feature for XGBoost Most accurate Random Forest features is 20.75\n",
      "Efficency per feature for XGBoost Most efficent XGBoost features is 26.38\n",
      "Efficency per feature for XGBoost Most accurate XGBoost features is 18.50\n"
     ]
    }
   ],
   "source": [
    "# Comprehensive baseline evaluation\n",
    "final_scores = calculate_cross_validation_scores(models, final_feature_sets)\n",
    "final_efficiencies = evaluate_model_efficiency(final_scores, final_feature_sets)"
   ]
  },
  {
   "cell_type": "code",
   "execution_count": null,
   "id": "7fcf16c6",
   "metadata": {},
   "outputs": [],
   "source": []
  }
 ],
 "metadata": {
  "kernelspec": {
   "display_name": "Python 3 (ipykernel)",
   "language": "python",
   "name": "python3"
  },
  "language_info": {
   "codemirror_mode": {
    "name": "ipython",
    "version": 3
   },
   "file_extension": ".py",
   "mimetype": "text/x-python",
   "name": "python",
   "nbconvert_exporter": "python",
   "pygments_lexer": "ipython3",
   "version": "3.9.12"
  }
 },
 "nbformat": 4,
 "nbformat_minor": 5
}
